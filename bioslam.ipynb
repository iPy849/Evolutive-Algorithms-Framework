{
  "cells": [
    {
      "cell_type": "markdown",
      "metadata": {
        "id": "view-in-github",
        "colab_type": "text"
      },
      "source": [
        "<a href=\"https://colab.research.google.com/github/iPy849/Evolutive-Algorithms-Framework/blob/main/bioslam.ipynb\" target=\"_parent\"><img src=\"https://colab.research.google.com/assets/colab-badge.svg\" alt=\"Open In Colab\"/></a>"
      ]
    },
    {
      "cell_type": "markdown",
      "metadata": {
        "id": "8u0JmGAnoF27"
      },
      "source": [
        "# Optimización Bioinspirada\n",
        "\n",
        "En este proyecto, se exploran algoritmos bioinspirados para resolver problemas de optimización. Se implementan tres enfoques diferentes: Algoritmos Genéticos (AG), Optimización por Colonias de Hormigas (ACO) y Algoritmos de Enjambre de Partículas (PSO).\n",
        "\n",
        "## Algoritmos Genéticos (AG)\n",
        "\n",
        "Los Algoritmos Genéticos se basan en el concepto de evolución biológica y utilizan operadores como selección, cruza y mutación para buscar soluciones óptimas en un espacio de búsqueda. En este proyecto, se implementan operadores como elitismo, cruza de un punto y mutación de inversión de un bit. Estos operadores se aplican a una población de entidades binarias, donde cada entidad representa una solución potencial al problema de optimización. El objetivo es encontrar la mejor solución a través de la selección de las entidades más aptas y la combinación de sus características a través de la cruza y mutación.\n",
        "\n",
        "## Optimización por Colonias de Hormigas (ACO)\n",
        "\n",
        "**Nota**: Debido a limitaciones de tiempo, no se implementó el algoritmo de Optimización por Colonias de Hormigas (ACO) en este proyecto. Sin embargo, se proporciona una descripción general de los operadores y su funcionamiento para su referencia.\n",
        "\n",
        "La Optimización por Colonias de Hormigas se inspira en el comportamiento de las colonias de hormigas en la búsqueda de caminos óptimos hacia una fuente de alimento. En este enfoque, se utiliza una matriz de feromonas para guiar la construcción de soluciones y actualizar las feromonas basándose en la calidad de las soluciones encontradas. El algoritmo ACO se basa en la idea de que las hormigas depositan feromonas en el camino que siguen, lo que permite a otras hormigas tomar decisiones informadas sobre la elección del camino.\n",
        "\n",
        "## Algoritmos de Enjambre de Partículas (PSO)\n",
        "\n",
        "Los Algoritmos de Enjambre de Partículas se basan en el comportamiento de los enjambres de partículas en la naturaleza, donde cada partícula representa una posible solución al problema. Las partículas exploran el espacio de búsqueda y ajustan su posición y velocidad en función de su propia mejor posición alcanzada (pbest) y la mejor posición global encontrada (gbest) por todo el enjambre. El objetivo es encontrar la mejor solución al permitir que las partículas se muevan hacia las regiones prometedoras del espacio de búsqueda.\n",
        "\n",
        "## Conclusiones\n",
        "\n",
        "Aunque no se implementó el algoritmo de Optimización por Colonias de Hormigas (ACO) en este proyecto, se presentaron los operadores clave y su funcionamiento para comprender el enfoque. Los Algoritmos Genéticos (AG) y los Algoritmos de Enjambre de Partículas (PSO) se implementaron con éxito, y se proporcionaron explicaciones detalladas de los operadores utilizados en cada enfoque.\n",
        "\n",
        "Los algoritmos bioinspirados ofrecen enfoques innovadores y efectivos para abordar problemas de optimización en una amplia gama de dominios. La elección del enfoque más adecuado depende de las características específicas del problema y de las restricciones y objetivos del sistema. Al combinar diferentes técnicas bioinspiradas y adaptarlas a las necesidades del problema, es posible obtener soluciones óptimas y eficientes en una variedad de contextos."
      ]
    },
    {
      "cell_type": "markdown",
      "metadata": {
        "id": "fPxRNFe8oF3E"
      },
      "source": [
        "## Importando paquetería"
      ]
    },
    {
      "cell_type": "code",
      "execution_count": null,
      "metadata": {
        "ExecuteTime": {
          "end_time": "2023-07-09T21:42:55.075955Z",
          "start_time": "2023-07-09T21:42:54.919217Z"
        },
        "id": "0eXeETCAoF3F"
      },
      "outputs": [],
      "source": [
        "# built - in\n",
        "from enum import Enum\n",
        "import string\n",
        "import math\n",
        "import time\n",
        "\n",
        "# third - party\n",
        "import numpy.random as random"
      ]
    },
    {
      "cell_type": "markdown",
      "metadata": {
        "id": "E8c6471roF3G"
      },
      "source": [
        "## Definición de entidad binaria genérica:\n",
        "Una entidad binaria es una plantilla o contenedor que utiliza para que la representación binaria de cierta entidad respete las condiciones de la entidad\n",
        "que se quiere representar, esta clase permite generar entidad siguiendo reglas más allá de establecer límites, ejemplo:\n",
        "* Números pares entre 0 y 1000\n",
        "* Números primos\n",
        "* Números cuya representación binaria comienza con 101\n",
        "\n",
        "Adicionalmente esta clase nos permite trabajar con sub-representaciones/sub-entidades, representaciones embebidas en otras representaciones de manera\n",
        "que podemos formar representaciones más complejas y son fáciles de extraer.\n",
        "\n",
        "La clase BinaryEntity maneja un conjunto de verificaciones que aseguran el perfecto funcionamiento y compatibilidad con otras clases de utilidades. **Es\n",
        "importante mencionar que esta clase no permite la modificación** de sus atributos luego de que es instanciada, solo es posible a través de los métodos\n",
        "correspondientes implementados."
      ]
    },
    {
      "cell_type": "code",
      "execution_count": null,
      "metadata": {
        "ExecuteTime": {
          "end_time": "2023-07-09T21:42:55.115423Z",
          "start_time": "2023-07-09T21:42:55.087745Z"
        },
        "collapsed": true,
        "id": "x6MjQ_EeoF3I"
      },
      "outputs": [],
      "source": [
        "class BinaryEntity(object):\n",
        "    \"\"\"\n",
        "        Una entidad representa un entero no negativo de manera binaria.\n",
        "        Una BinaryEntity no puede ser mutada excepto usando los métodos correspondientes\n",
        "    \"\"\"\n",
        "    __sub_entities: list = None  # Sub-entidades calculadas\n",
        "    __properties_locked: bool = False # Bandera que indica que la mutación de propiedades está bloqueada\n",
        "\n",
        "    def __mutation_method(method):\n",
        "        \"\"\"\n",
        "            Decorador para métodos que necesitan mutar una variable.\n",
        "            Ejecuta el método decorado y valida el estado de la entidad.\n",
        "        \"\"\"\n",
        "        def wrapper(self, *args, **kwargs):\n",
        "            self.__properties_locked = False\n",
        "            result = method(self, *args, **kwargs)\n",
        "            self.__validate_entity_logic()\n",
        "            self.__properties_locked = True\n",
        "            return result\n",
        "        return wrapper\n",
        "\n",
        "    def __clean_entity(method):\n",
        "        \"\"\"\n",
        "            Decorador para métodos que necesitan reiniciar el estado de la\n",
        "            entidad.\n",
        "        \"\"\"\n",
        "        def wrapper(self, *args, **kwargs):\n",
        "            self.__sub_entities = None\n",
        "            result = method(self, *args, **kwargs)\n",
        "            return result\n",
        "        return wrapper\n",
        "\n",
        "\n",
        "    # NOTE: No uso el decorador porque a veces los tipos del constructor hace inferencias raras\n",
        "    def __init__(\n",
        "            self,\n",
        "            data: int,\n",
        "            entity_bit_length: int,\n",
        "            sub_entities_length: list = None,\n",
        "            validation_func=None,\n",
        "            lower_bound: int = 0,\n",
        "            upper_bound: int = None,\n",
        "    ):\n",
        "        \"\"\"\n",
        "        :rtype: BinaryEntity\n",
        "        :param data: Valor contenido\n",
        "        :param entity_bit_length: Cantidad de bits de su representación binaria. Si no se define \\\n",
        "        un valor máximo, se calcula en base a este parámetro\n",
        "        :param sub_entities_length: Tamaño en bits de sub-entidades\n",
        "        :param validation_func: Función de validación de la entidad, (<BinaryEntity>) -> <bool>\n",
        "        :param upper_bound: Máximo valor entero admisible que puede tomar la entidad. Si este no es \\\n",
        "        definido se calcula como el máximo valor que puede tomar la entidad dada la cantidad de bits definida.\n",
        "        :param lower_bound: Mínimo valor entero admisible que puede tomar la entidad\n",
        "        \"\"\"\n",
        "        # Asignación de variables de instancia\n",
        "        self.data = data & (2**entity_bit_length)-1 # Toma solo la cantidad de bits necesarias\n",
        "        self.entity_bit_length = entity_bit_length\n",
        "        self.sub_entities_length = sub_entities_length\n",
        "        self.validation_func = validation_func\n",
        "        self.lower_bound = lower_bound\n",
        "\n",
        "        # ¿No hay límite superior? Asigna el máximo valor que puede tener la representación\n",
        "        if upper_bound is None:\n",
        "            self.upper_bound = (2 ** entity_bit_length) - 1\n",
        "        else:\n",
        "            self.upper_bound = upper_bound\n",
        "\n",
        "        # Comprobar estado entidad y cerrar la mutación de propiedades\n",
        "        self.__validate_entity_logic()\n",
        "        self.__properties_locked = True\n",
        "\n",
        "    def __validate_entity_logic(self):\n",
        "        \"\"\"Valida la lógica de las propiedades para cada mutación de estas\"\"\"\n",
        "        # NOTE: Cuida que los parámetros de la entidad se definan correctamente\n",
        "        assert self.lower_bound <= self.data <= self.upper_bound\n",
        "        assert self.entity_bit_length > 0\n",
        "        if self.sub_entities_length is not None:\n",
        "            assert len(self.sub_entities_length) != 0\n",
        "            assert sum(self.sub_entities_length) <= self.entity_bit_length\n",
        "        if self.validation_func is not None:\n",
        "            assert callable(self.validation_func)\n",
        "        if self.upper_bound is not None:\n",
        "            assert self.upper_bound > self.lower_bound\n",
        "\n",
        "        # Se toman solo los bits necesario del valor de la entidad\n",
        "        self.data &= (2 ** self.entity_bit_length) - 1\n",
        "\n",
        "    def create_with_same_format(self, data: int):\n",
        "        \"\"\"Crea una nueva entidad a partir del formato de esta instancia\"\"\"\n",
        "        return BinaryEntity(\n",
        "            data,\n",
        "            self.entity_bit_length,\n",
        "            sub_entities_length=self.sub_entities_length,\n",
        "            validation_func=self.validation_func,\n",
        "            lower_bound=self.lower_bound,\n",
        "            upper_bound=self.upper_bound,\n",
        "        )\n",
        "\n",
        "    def validate(self):\n",
        "        \"\"\"\n",
        "        Comprueba que la entidad esté contenida dentro de los límites\n",
        "        aceptados y cumpla la función de validación si es que fue asignada\n",
        "        \"\"\"\n",
        "        is_in_bounds = self.upper_bound >= self.data >= self.lower_bound\n",
        "        is_valid = self.validation_func(self) if self.validation_func is not None else True\n",
        "        assert isinstance(is_valid, bool)\n",
        "        return is_in_bounds and is_valid\n",
        "\n",
        "    @__mutation_method\n",
        "    @__clean_entity\n",
        "    def set_data(self, data: int):\n",
        "        \"\"\"Setter para data\"\"\"\n",
        "        self.data = data\n",
        "\n",
        "    @__mutation_method\n",
        "    @__clean_entity\n",
        "    def set_sub_entities_length(self, sub_entities_length: list):\n",
        "        \"\"\"Setter para definición de sub-entidades\"\"\"\n",
        "        self.sub_entities_length = sub_entities_length\n",
        "\n",
        "    @__mutation_method\n",
        "    def get_sub_entities(self) -> list | None:\n",
        "        \"\"\"\n",
        "        Obtiene una lista de sub-entidades según los tamaños\n",
        "        de sub-entidad definidos en el parámetro sub_entities_length.\n",
        "\n",
        "        Si la sumatoria de sub_entities_length < entity_bit_length\n",
        "        se devuelve una entidad adicional con los bits sobrantes\n",
        "        \"\"\"\n",
        "        # ¿Se pueden encontrar sub-entidades?\n",
        "        if self.sub_entities_length is None:\n",
        "            return None\n",
        "        # ¿Ya se calcularon las sub-entidades?\n",
        "        if self.__sub_entities is not None:\n",
        "            return self.__sub_entities\n",
        "\n",
        "        # Crear copia de tamaño de sub-entidades en alcance local\n",
        "        # para aplicar lógica de bits sobrantes\n",
        "        sub_entities_length = self.sub_entities_length\n",
        "        total_sub_entities_length = sum(sub_entities_length)\n",
        "        if self.entity_bit_length > total_sub_entities_length:\n",
        "            sub_entities_length.append(self.entity_bit_length - total_sub_entities_length)\n",
        "\n",
        "        # Calculando sub-entidades\n",
        "        sub_entities = list()\n",
        "        carry = 0\n",
        "        for sub_entity_length in sub_entities_length:\n",
        "            data = self.data\n",
        "            data >>= carry\n",
        "            mask = (2 ** sub_entity_length) - 1\n",
        "            data &= mask\n",
        "            sub_entities.append(\n",
        "                BinaryEntity(data, sub_entity_length)\n",
        "            )\n",
        "            carry += sub_entity_length\n",
        "        self.__sub_entities = sub_entities\n",
        "        return self.__sub_entities\n",
        "\n",
        "\n",
        "    def __to_string(self) -> str:\n",
        "        \"\"\"\n",
        "        Rellena con 0's la representación binaria si\n",
        "        el número tiene menos bits de los especificado\n",
        "        \"\"\"\n",
        "        rep = bin(self.data)[2:]\n",
        "        if len(rep) < self.entity_bit_length:\n",
        "            rep = '0' * (self.entity_bit_length - len(rep)) + rep\n",
        "        return rep\n",
        "\n",
        "    def get_entity_info(self) -> str:\n",
        "        \"\"\"Regresa un resumen de la entidad en formato string\"\"\"\n",
        "        return 'real: %d\\tbin: %s\\trange: [%d,%d]\\tbits: %d\\thas validation: %s\\tis valid: %s' % (\n",
        "            self.data,\n",
        "            self,\n",
        "            self.lower_bound,\n",
        "            self.upper_bound,\n",
        "            self.entity_bit_length,\n",
        "            self.validation_func is not None,\n",
        "            self.validate()\n",
        "        )\n",
        "\n",
        "    def __repr__(self) -> str:\n",
        "        \"\"\"Sobrecarga de operador de representación\"\"\"\n",
        "        return self.__to_string()\n",
        "\n",
        "    def __gt__(self, other):\n",
        "        \"\"\"Sobrecarga de operador de >\"\"\"\n",
        "        return self.data > other.data\n",
        "\n",
        "    def __ge__(self, other):\n",
        "        \"\"\"Sobrecarga de operador de >=\"\"\"\n",
        "        return self.data >= other.data\n",
        "\n",
        "    def __lt__(self, other):\n",
        "        \"\"\"Sobrecarga de operador de <\"\"\"\n",
        "        return self.data < other.data\n",
        "\n",
        "    def __le__(self, other):\n",
        "        \"\"\"Sobrecarga de operador de <=\"\"\"\n",
        "        return self.data <= other.data\n",
        "\n",
        "    def __eq__(self, other):\n",
        "        \"\"\"Sobrecarga de operador de ==\"\"\"\n",
        "        return self.data == other.data\n",
        "\n",
        "    def __ne__(self, other):\n",
        "        \"\"\"Sobrecarga de operador de !=\"\"\"\n",
        "        return self.data != other.data\n",
        "\n",
        "    def __setattr__(self, key, value):\n",
        "        \"\"\"Bloquea la mutación de propiedades en base __properties_locked\"\"\"\n",
        "        # Si cambia __properties_locked no aplica la lógica de bloqueo\n",
        "        # __properties_locked es una propiedad privada, solo es accesible dentro de la entidad\n",
        "        is_locker_mutation = key == '_BinaryEntity__properties_locked'\n",
        "        if not is_locker_mutation and self.__properties_locked:\n",
        "            raise Exception(\"Entity properties are read-only\")\n",
        "        super.__setattr__(self, key, value)\n"
      ]
    },
    {
      "cell_type": "markdown",
      "metadata": {
        "id": "gGE7AhOCoF3J"
      },
      "source": [
        "## Definición de entidad decimal binaria genérica\n",
        "\n",
        "BinaryDecimalEntity es una espcialización de BinaryEntity, enfocada al manejo de números decimales. El formato utilizado no restringe la representación\n",
        "a menos que así se desee. La representación consta de tres partes esenciales:\n",
        "1. Bit de signo (primer bit)\n",
        "2. Bits de representación entera (n bits)\n",
        "3. Bits de representación entera (últimos 7 bits)\n",
        "\n",
        "Esta clase maneja un atributo adicional **int_max_bits** que define el tamaño y valores máximos de su representación entera. Sin este valor no puede\n",
        "cumplirse el comportamiento completo de la clase."
      ]
    },
    {
      "cell_type": "code",
      "execution_count": null,
      "metadata": {
        "ExecuteTime": {
          "end_time": "2023-07-09T21:42:55.180290Z",
          "start_time": "2023-07-09T21:42:55.121516Z"
        },
        "id": "hU61yteaoF3M"
      },
      "outputs": [],
      "source": [
        "class BinaryDecimalEntity(BinaryEntity):\n",
        "    \"\"\"\n",
        "    Entidad que trata a números decimales entre [-2^27; 2^27] con tres cifras decimales.\n",
        "    Siempre tiene las mismas subentidades donde representan distintas partes del número\n",
        "    en el siguiente orden:\n",
        "    0 - Signo del decimal (1 bit inicial)\n",
        "    1 - Parte entera del decimal (n bits en medio)\n",
        "    2 - Parte decimal del decimal (7 bits finales)\n",
        "\n",
        "    Esta clase está pensada para ser un wrapper alrededor de BinaryEntity, entonces cada instancia\n",
        "    de esta clase debe ser tratada como una instancia de BinaryEntity\n",
        "    \"\"\"\n",
        "    def __init__(self, data: float, int_max_bits: int, validation_func: callable = None):\n",
        "        # Parte signo\n",
        "        sign_part = \"0\"\n",
        "        sign_part_bits = 1\n",
        "        # Signo negativo\n",
        "        if data < 0:\n",
        "            data *= -1\n",
        "            sign_part = \"1\"\n",
        "\n",
        "        # Parte entera del valor máximo\n",
        "        upper_bound_int_part = (2 ** int_max_bits) - 1\n",
        "        # Cantidad de bits del límite superior\n",
        "        upper_bound_int_part_bits = len(bin(upper_bound_int_part)[2:])\n",
        "\n",
        "        # Parte entera del valor contenido\n",
        "        data_int_part = int(data - (data % 1)) # Parte entera del valor asignado\n",
        "        # No puede pasarse del valor máximo definido por los bits asignados\n",
        "        if data_int_part >= upper_bound_int_part:\n",
        "            data_int_part = upper_bound_int_part\n",
        "        data_int_part_bin =  bin(data_int_part)[2:] # Representación binaria de la parte entera del valor asignado\n",
        "        # Representación binaria corregida de la parte entera del valor asignado\n",
        "        fixed_data_int_part_bin = ('0' * (upper_bound_int_part_bits - len(data_int_part_bin))) + data_int_part_bin\n",
        "\n",
        "        # Parte decimal del valor contenido, solo 2 cifras significativas\n",
        "        data_dec_part = int((data % 1) * 10**2)  # Parte decimal del valor asignado\n",
        "        data_dec_part_bin =  bin(data_dec_part)[2:] # Representación binaria de la parte decimal del valor asignado\n",
        "        data_dec_part_bits = 7\n",
        "        # Representación binaria corregida de la parte decimal del valor asignado\n",
        "        fixed_data_dec_part_bin = ('0' * (data_dec_part_bits - len(data_dec_part_bin))) + data_dec_part_bin\n",
        "\n",
        "        sub_entities_length = [sign_part_bits, upper_bound_int_part_bits, data_dec_part_bits]\n",
        "        encoded_value_str =  fixed_data_dec_part_bin + fixed_data_int_part_bin + sign_part\n",
        "        encoded_value = int('0b' + encoded_value_str, 2)\n",
        "\n",
        "        # Necesito esta info para convertir y diferenciar una entidad decimal de una binaria\n",
        "        self.int_max_bits = upper_bound_int_part_bits\n",
        "        super().__init__(\n",
        "            encoded_value,\n",
        "            len(encoded_value_str),\n",
        "            sub_entities_length=sub_entities_length,\n",
        "            validation_func=validation_func,\n",
        "        )\n",
        "\n",
        "    def create_with_same_format(self, data: float):\n",
        "        \"\"\"Sobrecarga del método heredado\"\"\"\n",
        "        return BinaryDecimalEntity(data, self.int_max_bits, validation_func=self.validation_func)\n",
        "\n",
        "    def to_float(self) -> float:\n",
        "        \"\"\"Devuelve la información contenida como una número flotante\"\"\"\n",
        "        sub_entities_bin = []\n",
        "        for sub_entity in self.get_sub_entities():\n",
        "            sub_entities_bin.extend(['0b'+str(sub_entity)])\n",
        "        int_part = int(sub_entities_bin[1], 2)\n",
        "        dec_part = int(sub_entities_bin[2], 2) * 10 ** -2\n",
        "        sign_part = 1 if int(sub_entities_bin[0], 2) == 0 else -1\n",
        "        return (int_part + dec_part) * sign_part\n",
        "\n",
        "    @staticmethod\n",
        "    def from_binary_entity(entity: BinaryEntity):\n",
        "        \"\"\"Convierte una entidad binaria a una entidad flotante binaria\"\"\"\n",
        "\n",
        "        # Es necesario este variable porque la representación binaria de un entero no siempre\n",
        "        # tiene la misma cantidad de bits representados:\n",
        "        # representación 8 bits de 32 = 00010000\n",
        "        # representación de python de 32 = 10000\n",
        "        if not 'int_max_bits' in entity.__dict__:\n",
        "            raise TypeError(\"the entity wasn't a BinaryDecimalEntity instance\")\n",
        "\n",
        "        # Analiza el signo del número\n",
        "        sign = -1 if (entity.data & 1) == 1 else 1\n",
        "\n",
        "        # Analiza la parte entera del número\n",
        "        # Compone la máscara para extraer parte entera\n",
        "        int_part_bits = (2 ** entity.int_max_bits) - 1\n",
        "        int_part_mask = int_part_bits << 1\n",
        "        int_part = (entity.data & int_part_mask) >> 1\n",
        "\n",
        "        # Analiza la parte decimal del número\n",
        "        # ¿Cuántos bits sobraron para los decimales? Tómalos todos\n",
        "        dec_part_bits = len(str(entity)) - entity.int_max_bits - 1\n",
        "        # Compone la máscara para extraer parte decimal como un número entero\n",
        "        dec_part_mask = (2 ** dec_part_bits - 1) << entity.int_max_bits + 1\n",
        "        dec_part = (entity.data & dec_part_mask) >> entity.int_max_bits + 1\n",
        "\n",
        "        # Compone el número\n",
        "        value = sign * (int_part + dec_part * (10 ** -2))\n",
        "\n",
        "        # Se devuelve la representación de la entidad\n",
        "        return BinaryDecimalEntity(value, entity.int_max_bits, validation_func=entity.validation_func)\n"
      ]
    },
    {
      "cell_type": "markdown",
      "metadata": {
        "id": "vDAuF0h-oF3N"
      },
      "source": [
        "### Prueba y detalles de entidad binaria\n",
        "\n",
        "Se prueban todos los comportamientos que pueden tener las entidades bases del framework."
      ]
    },
    {
      "cell_type": "code",
      "execution_count": null,
      "metadata": {
        "ExecuteTime": {
          "end_time": "2023-07-09T21:42:55.181103Z",
          "start_time": "2023-07-09T21:42:55.143334Z"
        },
        "id": "oaBukTi2oF3P",
        "outputId": "2e2d8b45-8b02-4b5e-d9c1-f7ee7aed8bf2",
        "colab": {
          "base_uri": "https://localhost:8080/"
        }
      },
      "outputs": [
        {
          "output_type": "stream",
          "name": "stdout",
          "text": [
            "Entidad de prueba: 100000\n",
            "Entidad de prueba -> info: real: 32\tbin: 100000\trange: [0,63]\tbits: 6\thas validation: True\tis valid: True\n",
            "Entidad de prueba -> sub-entities: [000, 100]\n",
            "\n",
            "Entidad de prueba 2: 100001\n",
            "Entidad de prueba 2 -> info: real: 33\tbin: 100001\trange: [0,63]\tbits: 6\thas validation: True\tis valid: True\n",
            "Entidad de prueba 2 -> sub-entities: [001, 100]\n",
            "\n",
            "Entidad de prueba 3: 100000\n",
            "Entidad de prueba 3 -> info: real: 32\tbin: 100000\trange: [0,63]\tbits: 6\thas validation: True\tis valid: True\n",
            "Entidad de prueba 3 -> sub-entities: [000, 100]\n",
            "\n",
            "No se pudo cambiar el valor de  100000\n",
            "Entidad de prueba 3 mod: 000011\n",
            "Entidad de prueba 3 mod -> info: real: 3\tbin: 000011\trange: [0,63]\tbits: 6\thas validation: True\tis valid: True\n",
            "Entidad de prueba 3 mod -> sub-entities: [0011, 00]\n",
            "\n"
          ]
        }
      ],
      "source": [
        "# Esta función se pasa a la entidad como un validador de entidad de ese tipo\n",
        "def entity_validation(entity: BinaryEntity) -> bool:\n",
        "    pos_attacker, pos_defender = entity.get_sub_entities()\n",
        "    max_pos_val = 0b101\n",
        "    return pos_attacker.data <= max_pos_val and pos_defender.data <= max_pos_val\n",
        "\n",
        "# Se crea una entidad\n",
        "test_entity = BinaryEntity(\n",
        "    0b100000, # Puede ser binario o decimal\n",
        "    6, # Cantidad de bits de la entidad\n",
        "    # Cantidad de bits de cada sub-entidad, cada sub entidad se cuenta en binario (derecha a izquierda)\n",
        "    sub_entities_length=[3, 3],\n",
        "    validation_func=entity_validation, # Validación adicional\n",
        "    lower_bound=0, # Límite inferior de la entidad\n",
        "    # upper_bound=32 # Límite superior de la entidad\n",
        ")\n",
        "\n",
        "def run_entity_test(name: str, entity: BinaryEntity):\n",
        "    \"\"\"Nos permite probar una entidad y su funcionamiento\"\"\"\n",
        "    # Representación\n",
        "    print(f'{name}: {entity}')\n",
        "    # Muestra resumen de la entidad\n",
        "    print(f'{name} -> info: {entity.get_entity_info()}')\n",
        "    # Sub entidades que contiene una entidad\n",
        "    print(f'{name} -> sub-entities: {entity.get_sub_entities()}\\n')\n",
        "\n",
        "# Se prueba una entidad\n",
        "run_entity_test(\"Entidad de prueba\", test_entity)\n",
        "\n",
        "# Creamos un entidad nueva usando la misma configuración de la anterior\n",
        "# En este caso le dimos más bits para demostrar que solo trabaja con los especificados\n",
        "test_entity_2 = test_entity.create_with_same_format(0b1111100001)\n",
        "run_entity_test(\"Entidad de prueba 2\", test_entity_2)\n",
        "\n",
        "# Una entidad no puede modificar el valor de sus propiedades a no ser que exista un método para ello\n",
        "test_entity_3 = test_entity.create_with_same_format(test_entity.data)\n",
        "run_entity_test(\"Entidad de prueba 3\", test_entity_3)\n",
        "try:\n",
        "    test_entity_3.data = 3\n",
        "except Exception:\n",
        "    print(\"No se pudo cambiar el valor de \", test_entity_3)\n",
        "\n",
        "test_entity_3.set_data(3)\n",
        "test_entity_3.set_sub_entities_length([4,2])\n",
        "run_entity_test(\"Entidad de prueba 3 mod\", test_entity_3)\n"
      ]
    },
    {
      "cell_type": "code",
      "execution_count": null,
      "metadata": {
        "ExecuteTime": {
          "end_time": "2023-07-09T21:42:55.181753Z",
          "start_time": "2023-07-09T21:42:55.155685Z"
        },
        "id": "EqwSISitoF3Y",
        "outputId": "55e9e116-afdc-4fea-9ad2-4e9650d82b29",
        "colab": {
          "base_uri": "https://localhost:8080/"
        }
      },
      "outputs": [
        {
          "output_type": "stream",
          "name": "stdout",
          "text": [
            "Instancia de BinaryDecimalEntity: 10000111110\n",
            "Instancia de BinaryDecimalEntity -> info: real: 1086\tbin: 10000111110\trange: [0,2047]\tbits: 11\thas validation: False\tis valid: True\n",
            "Instancia de BinaryDecimalEntity -> sub-entities: [0, 111, 1000011]\n",
            "\n",
            "Instancia clonada de BinaryDecimalEntity: 00000001010\n",
            "Instancia clonada de BinaryDecimalEntity -> info: real: 10\tbin: 00000001010\trange: [0,2047]\tbits: 11\thas validation: False\tis valid: True\n",
            "Instancia clonada de BinaryDecimalEntity -> sub-entities: [0, 101, 0000000]\n",
            "\n",
            "Instancia de BinaryEntity a partir de BinaryDecimalEntity:: 00000001010\n",
            "Instancia de BinaryEntity a partir de BinaryDecimalEntity: -> info: real: 10\tbin: 00000001010\trange: [0,2047]\tbits: 11\thas validation: False\tis valid: True\n",
            "Instancia de BinaryEntity a partir de BinaryDecimalEntity: -> sub-entities: [0, 101, 0000000]\n",
            "\n",
            "No se puede parsear directamente un BinaryEntity a BinaryDecimal Entity, falta información\n"
          ]
        }
      ],
      "source": [
        "# Manipulando relaciones entre BinaryDecimalEntity y BinaryEntity\n",
        "def parse_binaryDecimalEntity_to_BinaryEntity(e: BinaryDecimalEntity) -> BinaryEntity:\n",
        "    \"\"\"\n",
        "    Cambio de tipo implícito ya que no existe typecasting en python, son\n",
        "    magic methods que es otro concepto\n",
        "    \"\"\"\n",
        "    return e\n",
        "\n",
        "# Instancia de un BinaryDecimalEntity\n",
        "binary_decimal_entity = BinaryDecimalEntity(27.68, 3)\n",
        "run_entity_test(\"Instancia de BinaryDecimalEntity\", binary_decimal_entity)\n",
        "# Instancia de un BinaryDecimalEntity a partir de un BinaryDecimalEntity\n",
        "binary_decimal_entity2 = binary_decimal_entity.create_with_same_format(5.0)\n",
        "run_entity_test(\"Instancia clonada de BinaryDecimalEntity\", binary_decimal_entity2)\n",
        "# Instancia de un BinaryDecimalEntity a partir de un BinaryEntity\n",
        "# Parseamos a BinaryEntity\n",
        "binary_entity_parsed = parse_binaryDecimalEntity_to_BinaryEntity(binary_decimal_entity2)\n",
        "run_entity_test(\"Instancia de BinaryEntity a partir de BinaryDecimalEntity:\", binary_entity_parsed)\n",
        "# ¿Qué pasa si intentamos parsear una entidad que nunca fue un Decimal?\n",
        "try:\n",
        "    binary_entity_instance = BinaryEntity(\n",
        "        binary_decimal_entity.data,\n",
        "        binary_decimal_entity.entity_bit_length,\n",
        "        sub_entities_length=binary_decimal_entity.get_sub_entities,\n",
        "        validation_func=binary_decimal_entity.validation_func,\n",
        "        upper_bound=binary_decimal_entity.upper_bound,\n",
        "        lower_bound=binary_decimal_entity.lower_bound\n",
        "    )\n",
        "    binary_entity_instance = BinaryDecimalEntity.from_binary_entity(binary_entity_instance)\n",
        "    run_entity_test(\"Instancia de BinaryEntity\", binary_entity_instance)\n",
        "except TypeError:\n",
        "    print(\"No se puede parsear directamente un BinaryEntity a BinaryDecimal Entity, falta información\")\n",
        "\n",
        "\n"
      ]
    },
    {
      "cell_type": "markdown",
      "metadata": {
        "id": "bHjrK_zkoF3Z"
      },
      "source": [
        "## Generación de poblaciones\n",
        "Función de generación de entidades aleatorias que se basa en una entidad plantilla para generar una nueva lista de entidades que cumplan las mismas\n",
        "características y sean válidas"
      ]
    },
    {
      "cell_type": "code",
      "execution_count": null,
      "metadata": {
        "ExecuteTime": {
          "end_time": "2023-07-09T21:42:55.213339Z",
          "start_time": "2023-07-09T21:42:55.182846Z"
        },
        "id": "A-9ZXKSloF3a"
      },
      "outputs": [],
      "source": [
        "def generate_entities(template_entity: BinaryEntity, qty: int, verbose=False) -> list[BinaryEntity|BinaryDecimalEntity]:\n",
        "    \"\"\"\n",
        "    Genera una qty cantidad de entidades qty con las mismas características\n",
        "    que la template_entity, teniendo en cuenta que cada entidad generada es\n",
        "    válida.\n",
        "    \"\"\"\n",
        "    print(f'About to create {qty} entities:')\n",
        "    population = list()\n",
        "\n",
        "    while len(population) != qty:\n",
        "        # Genera información dentro de los límites\n",
        "        data = 0\n",
        "        # Diferencio las clases para juzgar los límites\n",
        "        if isinstance(template_entity, BinaryDecimalEntity):\n",
        "            data = random.randint(-2 ** template_entity.int_max_bits, 2 ** template_entity.int_max_bits) + random.random()\n",
        "        else:\n",
        "            data = random.randint(template_entity.lower_bound, template_entity.upper_bound )\n",
        "\n",
        "        entity = template_entity.create_with_same_format(data)\n",
        "        # Comprueba que la entidad sea válida y la muestra\n",
        "        if entity.validate():\n",
        "            if verbose:\n",
        "                print(f'{len(population)} - {entity.get_entity_info()}')\n",
        "            population.append(entity)\n",
        "    print()\n",
        "    return population\n"
      ]
    },
    {
      "cell_type": "markdown",
      "metadata": {
        "id": "jsN97aJjoF3b"
      },
      "source": [
        "### Prueba y detalles generación de entidades"
      ]
    },
    {
      "cell_type": "code",
      "execution_count": null,
      "metadata": {
        "ExecuteTime": {
          "end_time": "2023-07-09T21:42:55.445241Z",
          "start_time": "2023-07-09T21:42:55.197908Z"
        },
        "id": "ArwH-r0CoF3b",
        "outputId": "0adc61c9-b141-4b96-90d0-6e4f2c0c103d",
        "colab": {
          "base_uri": "https://localhost:8080/"
        }
      },
      "outputs": [
        {
          "output_type": "stream",
          "name": "stdout",
          "text": [
            "About to create 5 entities:\n",
            "0 - real: 2\tbin: 000010\trange: [0,63]\tbits: 6\thas validation: True\tis valid: True\n",
            "1 - real: 11\tbin: 001011\trange: [0,63]\tbits: 6\thas validation: True\tis valid: True\n",
            "2 - real: 10\tbin: 001010\trange: [0,63]\tbits: 6\thas validation: True\tis valid: True\n",
            "3 - real: 11\tbin: 001011\trange: [0,63]\tbits: 6\thas validation: True\tis valid: True\n",
            "4 - real: 20\tbin: 010100\trange: [0,63]\tbits: 6\thas validation: True\tis valid: True\n",
            "\n",
            "About to create 5 entities:\n",
            "0 - real: 705\tbin: 01011000001\trange: [0,2047]\tbits: 11\thas validation: False\tis valid: True\n",
            "1 - real: 1075\tbin: 10000110011\trange: [0,2047]\tbits: 11\thas validation: False\tis valid: True\n",
            "2 - real: 607\tbin: 01001011111\trange: [0,2047]\tbits: 11\thas validation: False\tis valid: True\n",
            "3 - real: 850\tbin: 01101010010\trange: [0,2047]\tbits: 11\thas validation: False\tis valid: True\n",
            "4 - real: 1213\tbin: 10010111101\trange: [0,2047]\tbits: 11\thas validation: False\tis valid: True\n",
            "\n"
          ]
        }
      ],
      "source": [
        "# Las entidades no generación no tienen que ser necesariamente válidas\n",
        "\n",
        "# Generación de entidades a partir de una entidad válida\n",
        "binary_entities = generate_entities(test_entity, 5, verbose=True)\n",
        "\n",
        "# Generación de entidades a partir de una entidad inválida\n",
        "binary_decimal_entities = generate_entities(binary_decimal_entity, 5, verbose=True)\n"
      ]
    },
    {
      "cell_type": "markdown",
      "metadata": {
        "id": "-SR6eWw_oF3c"
      },
      "source": [
        "## Definición de entidad dimensional binaria genérica\n",
        "\n",
        "Una MultiDimensionalBinaryEntity es una entidad que engloba a otras entidades, a diferencia de las sub-entidades, estas se manejan como componentes\n",
        "o entidades que poseen las mismas características y restricciones pero diferente valor.\n",
        "\n",
        "Esta clase te permite trabajar con toda la instancia de MultiDimensionalBinaryEntity como una BinaryEntity usando el método **to_binary_entity**\n",
        "pero a la vez elimina las restricciones y el caracter multi-dimensional de la entidad para pasar a ser tratada como un entidad con sub-entidades"
      ]
    },
    {
      "cell_type": "code",
      "execution_count": null,
      "metadata": {
        "ExecuteTime": {
          "end_time": "2023-07-09T21:42:55.449316Z",
          "start_time": "2023-07-09T21:42:55.209373Z"
        },
        "id": "N_2Cb7xnoF3d"
      },
      "outputs": [],
      "source": [
        "class MultiDimensionalBinaryEntity(object):\n",
        "    \"\"\"\n",
        "    Representación de una entidad\n",
        "    \"\"\"\n",
        "    def __init__(self, entities: list[BinaryEntity|BinaryDecimalEntity]):\n",
        "        self.entities = entities\n",
        "\n",
        "    def to_binary_entity(self) -> BinaryEntity:\n",
        "        \"\"\"Devuelve una entidad multidmensional como una entidad binaria\"\"\"\n",
        "        entity_data = 0\n",
        "        entities_length = []\n",
        "        for i, entity in enumerate(self.entities):\n",
        "            entities_length.append(len(str(entity)))\n",
        "            entity_data += entity.data << (i * entities_length[i])\n",
        "        return BinaryEntity(entity_data, sum(entities_length), entities_length)\n",
        "\n",
        "    def copy(self):\n",
        "        \"\"\"Copia la instancia, así libera su referencia\"\"\"\n",
        "        return MultiDimensionalBinaryEntity(self.entities)\n",
        "\n",
        "    @staticmethod\n",
        "    def generate_based_in(template: BinaryEntity, dims: int):\n",
        "        \"\"\"\n",
        "            Genera una nueva instancia de MultiDimensionalBinaryEntity que genera sus valores según las dimensiones\n",
        "            definidas. Utiliza la función generate_entities definida anteriormente para ello.\n",
        "        \"\"\"\n",
        "        return MultiDimensionalBinaryEntity(generate_entities(template, dims))\n",
        "\n",
        "    def __repr__(self):\n",
        "        return \"<\"+\"|\".join([str(entity) for entity in self.entities])+\">\"\n"
      ]
    },
    {
      "cell_type": "markdown",
      "metadata": {
        "id": "G0JGI3i2oF3e"
      },
      "source": [
        "## Probando la entidad dimensional binaria genérica"
      ]
    },
    {
      "cell_type": "code",
      "execution_count": null,
      "metadata": {
        "ExecuteTime": {
          "end_time": "2023-07-09T21:42:55.450383Z",
          "start_time": "2023-07-09T21:42:55.228793Z"
        },
        "id": "yoNhhcczoF3f",
        "outputId": "05bd0182-805a-4919-857d-9e795064bead",
        "colab": {
          "base_uri": "https://localhost:8080/"
        }
      },
      "outputs": [
        {
          "output_type": "stream",
          "name": "stdout",
          "text": [
            "About to create 3 entities:\n",
            "\n",
            "MultiDimensionalBinaryEntity: <001001|010011|100000>\n",
            "MultiDimensionalBinaryEntity as BinaryEntity:: 100000010011001001\n",
            "MultiDimensionalBinaryEntity as BinaryEntity: -> info: real: 132297\tbin: 100000010011001001\trange: [0,262143]\tbits: 18\thas validation: False\tis valid: True\n",
            "MultiDimensionalBinaryEntity as BinaryEntity: -> sub-entities: [001001, 010011, 100000]\n",
            "\n",
            "MultiDimensionalBinaryEntity Copy: <001001|010011|100000>\n"
          ]
        }
      ],
      "source": [
        "# Instancia de Entidad binaria multi-dimensional\n",
        "multi_dim_binary_entity = MultiDimensionalBinaryEntity(\n",
        "    generate_entities(test_entity, 3)\n",
        ")\n",
        "\n",
        "# Conviertiendo varias dimensiones en una sola\n",
        "print(\"MultiDimensionalBinaryEntity:\", multi_dim_binary_entity)\n",
        "run_entity_test(\"MultiDimensionalBinaryEntity as BinaryEntity:\", multi_dim_binary_entity.to_binary_entity())\n",
        "print(\"MultiDimensionalBinaryEntity Copy:\", multi_dim_binary_entity.copy())\n"
      ]
    },
    {
      "cell_type": "markdown",
      "metadata": {
        "id": "DhKLZ1-DoF3g"
      },
      "source": [
        "## Definición de una partícula binaria\n",
        "La clase BinaryParticle es una entidad multi-dimensional que nos permite mantener el estado de las partícula para el algoritmo de PSO"
      ]
    },
    {
      "cell_type": "code",
      "execution_count": null,
      "metadata": {
        "ExecuteTime": {
          "end_time": "2023-07-09T21:42:55.451055Z",
          "start_time": "2023-07-09T21:42:55.249516Z"
        },
        "id": "_zv7nv2boF3g"
      },
      "outputs": [],
      "source": [
        "class BinaryParticle(MultiDimensionalBinaryEntity):\n",
        "    \"\"\"\n",
        "        Representa una entidad de partícula binaria.\n",
        "        Esta clase tiene la particularidad que sus componentes son de tipo BinaryDecimalEntity\n",
        "    \"\"\"\n",
        "    def __init__(self, entities: list[BinaryDecimalEntity]):\n",
        "        super().__init__(entities)\n",
        "        self.velocity = [0 for _ in range(len(entities))]\n",
        "        self.particle_best = self\n",
        "\n",
        "    def copy(self):\n",
        "        \"\"\"Sobreescritura del método de la clase base para que genere el tipo propio\"\"\"\n",
        "        copy = BinaryParticle(self.entities)\n",
        "        if self != self.particle_best:\n",
        "            copy.particle_best = self.particle_best.copy()\n",
        "        return copy\n",
        "\n",
        "    @staticmethod\n",
        "    def generate_based_in(template: BinaryDecimalEntity, dims: int):\n",
        "        \"\"\"\n",
        "            Genera una nueva instancia de BinaryParticle que genera sus valores según las dimensiones\n",
        "            definidas. Utiliza la función generate_entities definida anteriormente para ello.\n",
        "        \"\"\"\n",
        "        return BinaryParticle(generate_entities(template, dims))\n",
        "\n",
        "    def __repr__(self):\n",
        "        return \"< %s - pbest: %s>\" % (\n",
        "                \"|\".join([str(entity) for entity in self.entities]),\n",
        "                \"|\".join([str(entity) for entity in self.particle_best.entities]),\n",
        "        )\n"
      ]
    },
    {
      "cell_type": "code",
      "execution_count": null,
      "metadata": {
        "ExecuteTime": {
          "end_time": "2023-07-09T21:42:55.496506Z",
          "start_time": "2023-07-09T21:42:55.261364Z"
        },
        "id": "jXbLW5rcoF3g",
        "outputId": "bf83219c-dea4-4413-af99-515e48432293",
        "colab": {
          "base_uri": "https://localhost:8080/"
        }
      },
      "outputs": [
        {
          "output_type": "stream",
          "name": "stdout",
          "text": [
            "About to create 5 entities:\n",
            "\n",
            "BinaryParticle: < 10101011101|00100111000|10111011100|00111111101|10111101101 - pbest: 10101011101|00100111000|10111011100|00111111101|10111101101>\n",
            "BinaryParticle as BinaryEntity:: 100000010011001001\n",
            "BinaryParticle as BinaryEntity: -> info: real: 132297\tbin: 100000010011001001\trange: [0,262143]\tbits: 18\thas validation: False\tis valid: True\n",
            "BinaryParticle as BinaryEntity: -> sub-entities: [001001, 010011, 100000]\n",
            "\n",
            "BinaryParticle Copy: < 10101011101|00100111000|10111011100|00111111101|10111101101 - pbest: 10101011101|00100111000|10111011100|00111111101|10111101101>\n"
          ]
        }
      ],
      "source": [
        "# Instancia de Entidad binaria multi-dimensional\n",
        "binary_particle = BinaryParticle(\n",
        "    generate_entities(binary_decimal_entity2, 5)\n",
        ")\n",
        "\n",
        "# Conviertiendo varias dimensiones en una sola\n",
        "print(\"BinaryParticle:\", binary_particle)\n",
        "run_entity_test(\"BinaryParticle as BinaryEntity:\", multi_dim_binary_entity.to_binary_entity())\n",
        "print(\"BinaryParticle Copy:\", binary_particle.copy())\n",
        "\n"
      ]
    },
    {
      "cell_type": "markdown",
      "metadata": {
        "id": "2lJKk6uToF3h"
      },
      "source": [
        "## Implementación de operadores\n",
        "Se implementarán los diferentes operadores utilizados por los algoritmos definidos a continuación:\n",
        "* Algoritmos genéticos\n",
        "* Optimización colmena de partículas\n",
        "* Optimización colonia de hormigas"
      ]
    },
    {
      "cell_type": "markdown",
      "metadata": {
        "id": "yXxF2NoNoF3h"
      },
      "source": [
        "### Implementación de las constantes/enumeradores de conjutnos de operadores\n",
        "Esta clase Enum es la que define qué algoritmo se implementa en la función de correr algoritmos bio-inspirados"
      ]
    },
    {
      "cell_type": "code",
      "execution_count": null,
      "metadata": {
        "ExecuteTime": {
          "end_time": "2023-07-09T21:42:55.496934Z",
          "start_time": "2023-07-09T21:42:55.275464Z"
        },
        "id": "r4qBDfXioF3i"
      },
      "outputs": [],
      "source": [
        "class BioOperator(Enum):\n",
        "    \"\"\"Constantes enumerables de los diferentes conjuntos de operadores\"\"\"\n",
        "    GA_OPERATORS = 0\n",
        "    PSO_OPERATORS = 1\n",
        "    ACO_OPERATORS = 2\n"
      ]
    },
    {
      "cell_type": "markdown",
      "metadata": {
        "id": "51tirK86oF3i"
      },
      "source": [
        "### Implementación de operadores de algoritmos genéticos"
      ]
    },
    {
      "cell_type": "markdown",
      "metadata": {
        "id": "eGenjQDgoF3j"
      },
      "source": [
        "#### Selección"
      ]
    },
    {
      "cell_type": "markdown",
      "metadata": {
        "id": "QE0OKARvoF3j"
      },
      "source": [
        "##### Elitismo"
      ]
    },
    {
      "cell_type": "code",
      "execution_count": null,
      "metadata": {
        "ExecuteTime": {
          "end_time": "2023-07-09T21:42:55.497271Z",
          "start_time": "2023-07-09T21:42:55.288457Z"
        },
        "id": "x_sx86HKoF3j"
      },
      "outputs": [],
      "source": [
        "def selection_elitism(population: list[BinaryEntity], scores: list[float]) -> list[BinaryEntity]:\n",
        "    \"\"\"\n",
        "    Selección de población usando elitismo, regresa la mitad de los población más apta\n",
        "    :param population: población actual\n",
        "    :param scores: mapeo de score de cada individuo de la población\n",
        "    :return: población seleccionada\n",
        "    \"\"\"\n",
        "    # Esto es posible gracias a que una closure empaqueta su scope con la función:\n",
        "    # A mi me gusta decir que una closure secuestra el scope en que se construye\n",
        "    # https://realpython.com/python-scope-legb-rule/#using-enclosing-scopes-as-closures\n",
        "    return sorted(population, key=lambda x: scores[population.index(x)], reverse=True)\n"
      ]
    },
    {
      "cell_type": "code",
      "execution_count": null,
      "metadata": {
        "ExecuteTime": {
          "end_time": "2023-07-09T21:42:55.497700Z",
          "start_time": "2023-07-09T21:42:55.314330Z"
        },
        "id": "g7xH42DPoF3r",
        "outputId": "44ebf186-4447-4beb-f4a9-5182cad2364a",
        "colab": {
          "base_uri": "https://localhost:8080/"
        }
      },
      "outputs": [
        {
          "output_type": "stream",
          "name": "stdout",
          "text": [
            "About to create 5 entities:\n",
            "\n",
            "Population:\t[010101, 011101, 001100, 010001, 010011]\n",
            "Scores:\t[0.2570829506384331, 0.8650714743799242, 0.8329682500547153, 0.6741488143790529, 0.8643985476029954]\n",
            "Selection:\t[011101, 010011, 001100, 010001, 010101]\n",
            "\n"
          ]
        }
      ],
      "source": [
        "# Probando selección elitista\n",
        "\n",
        "# Se usa un scope separado para no generar basura\n",
        "if True:\n",
        "    sample_population = generate_entities(test_entity, 5) # Se genera población de 5\n",
        "    sample_population_score = [random.random() for _ in sample_population] # Se inventan los scores\n",
        "    selection = selection_elitism(sample_population, sample_population_score) # Selecciona usando elitismo\n",
        "    print(\n",
        "        \"Population:\\t%s\\nScores:\\t%s\\nSelection:\\t%s\\n\" % (\n",
        "            sample_population,\n",
        "            sample_population_score,\n",
        "            selection,\n",
        "        ),\n",
        "    )"
      ]
    },
    {
      "cell_type": "markdown",
      "metadata": {
        "id": "auuatxSjoF3s"
      },
      "source": [
        "##### Ruleta"
      ]
    },
    {
      "cell_type": "code",
      "execution_count": null,
      "metadata": {
        "ExecuteTime": {
          "end_time": "2023-07-09T21:42:55.497841Z",
          "start_time": "2023-07-09T21:42:55.326724Z"
        },
        "id": "t8jbjA4ioF3s"
      },
      "outputs": [],
      "source": [
        "def selection_roulette(population: list[BinaryEntity], scores: list[float]) -> list[BinaryEntity]:\n",
        "    \"\"\"\n",
        "    Selección de población usando método de ruleta, los individuos con mejores score tienen mejores\n",
        "    posibilidades de ser seleccionados. Regresa la mitad de los población.\n",
        "    :param population: población actual\n",
        "    :param scores: mapeo de score de cada individuo de la población\n",
        "    :return: población seleccionada\n",
        "    \"\"\"\n",
        "    sum_score = sum(scores) # Total de scores\n",
        "\n",
        "    # Calculando probabilidad de elección de individuos\n",
        "    selection_probs = None\n",
        "    # Si la suma de los scores es 0, todos tienen la misma posibilidad\n",
        "    if sum_score == 0:\n",
        "        selection_probs = [1/ len(population) for score in scores]\n",
        "    else:\n",
        "        selection_probs = [score/sum_score for score in scores]\n",
        "\n",
        "    # Obtiene elementos random de la población teniendo en cuenta pesos/probabilidades\n",
        "    return random.choice(population, len(population), p=selection_probs)\n"
      ]
    },
    {
      "cell_type": "code",
      "execution_count": null,
      "metadata": {
        "ExecuteTime": {
          "end_time": "2023-07-09T21:42:55.498093Z",
          "start_time": "2023-07-09T21:42:55.333460Z"
        },
        "id": "faV6BviVoF3t",
        "outputId": "dc6ba2fb-bfb9-4dea-912b-0f1844453e14",
        "colab": {
          "base_uri": "https://localhost:8080/"
        }
      },
      "outputs": [
        {
          "output_type": "stream",
          "name": "stdout",
          "text": [
            "About to create 5 entities:\n",
            "\n",
            "Population:\t[000100, 001010, 001101, 001100, 010010]\n",
            "Scores:\t[0.8290838406267683, 0.9010927035567851, 0.4990416207325248, 0.13030353175170173, 0.43305990012364104]\n",
            "Selection:\t[010010 010010 010010 001101 000100]\n",
            "\n"
          ]
        }
      ],
      "source": [
        "# Probando selección ruleta\n",
        "\n",
        "# Se usa un scope separado para no generar basura\n",
        "if True:\n",
        "    sample_population = generate_entities(test_entity, 5) # Se genera población de 5\n",
        "    sample_population_score = [random.random() for _ in sample_population] # Se inventan los scores\n",
        "    selection = selection_roulette(sample_population, sample_population_score) # Selecciona usando ruleta\n",
        "    print(\n",
        "        \"Population:\\t%s\\nScores:\\t%s\\nSelection:\\t%s\\n\" % (\n",
        "            sample_population,\n",
        "            sample_population_score,\n",
        "            selection,\n",
        "        ),\n",
        "    )"
      ]
    },
    {
      "cell_type": "markdown",
      "metadata": {
        "id": "3j2ZI5HeoF3t"
      },
      "source": [
        "##### Torneo"
      ]
    },
    {
      "cell_type": "code",
      "execution_count": null,
      "metadata": {
        "ExecuteTime": {
          "end_time": "2023-07-09T21:42:55.498208Z",
          "start_time": "2023-07-09T21:42:55.345491Z"
        },
        "id": "eNt6qSY6oF3t"
      },
      "outputs": [],
      "source": [
        "def selection_tournament(population: list[BinaryEntity], scores: list[float]) -> list[BinaryEntity]:\n",
        "    \"\"\"\n",
        "    Selección de población usando método de torneo, los individuos compiten por la supervivencia.\n",
        "    Como en los juegos del hambre.\n",
        "    Regresa la mitad de los población.\n",
        "    :param population: población actual\n",
        "    :param scores: mapeo de score de cada individuo de la población\n",
        "    :return: población seleccionada\n",
        "    \"\"\"\n",
        "    winners = [] # Lista de individuos ganadores\n",
        "    tournament_size = 3  # Cuántos compiten\n",
        "\n",
        "    for _ in range(len(population)):\n",
        "        # Seleccionar índices únicos al azar para los competidores del torneo\n",
        "        competidores = random.choice(len(population), len(population) // 2, replace=False)\n",
        "         # Encontrar el índice del competidor con el puntaje más bajo\n",
        "        winner = max(competidores, key=lambda c: scores[c])\n",
        "        winners.append(population[winner])\n",
        "\n",
        "    return winners\n"
      ]
    },
    {
      "cell_type": "code",
      "execution_count": null,
      "metadata": {
        "ExecuteTime": {
          "end_time": "2023-07-09T21:42:55.498697Z",
          "start_time": "2023-07-09T21:42:55.361275Z"
        },
        "id": "to3jcunAoF3u",
        "outputId": "35023e94-3956-4697-f619-64e8f0700020",
        "colab": {
          "base_uri": "https://localhost:8080/"
        }
      },
      "outputs": [
        {
          "output_type": "stream",
          "name": "stdout",
          "text": [
            "About to create 5 entities:\n",
            "\n",
            "Population:\t[000101, 010001, 101100, 011001, 010011]\n",
            "Scores:\t[0.3652818570201507, 0.6107364871894106, 0.7568129966173909, 0.26656312095732815, 0.6031687178334485]\n",
            "Selection:\t[101100, 101100, 010001, 000101, 010011]\n",
            "\n"
          ]
        }
      ],
      "source": [
        "# Probando selección torneo\n",
        "\n",
        "# Se usa un scope separado para no generar basura\n",
        "if True:\n",
        "    sample_population = generate_entities(test_entity, 5) # Se genera población de 5\n",
        "    sample_population_score = [random.random() for _ in sample_population] # Se inventan los scores\n",
        "    selection = selection_tournament(sample_population, sample_population_score) # Selecciona usando método torneo\n",
        "    print(\n",
        "        \"Population:\\t%s\\nScores:\\t%s\\nSelection:\\t%s\\n\" % (\n",
        "            sample_population,\n",
        "            sample_population_score,\n",
        "            selection,\n",
        "        ),\n",
        "    )"
      ]
    },
    {
      "cell_type": "markdown",
      "metadata": {
        "id": "nfVe_9aqoF3u"
      },
      "source": [
        "#### Cruza"
      ]
    },
    {
      "cell_type": "markdown",
      "metadata": {
        "id": "XNE1RgYKoF3v"
      },
      "source": [
        "##### Cruza de 1 punto"
      ]
    },
    {
      "cell_type": "code",
      "execution_count": null,
      "metadata": {
        "ExecuteTime": {
          "end_time": "2023-07-09T21:42:55.500192Z",
          "start_time": "2023-07-09T21:42:55.371647Z"
        },
        "id": "H7HuMJezoF3v"
      },
      "outputs": [],
      "source": [
        "def crossover_one_point(parent_1: BinaryEntity, parent_2: BinaryEntity) -> BinaryEntity:\n",
        "    \"\"\"\n",
        "    Hace una cruza de 1 bit aleatorio dado dos padres, el resultado siempre se le aplica\n",
        "    un módulo con el límite superior (el que nada debe, nada teme), si el resultado no es válido,\n",
        "    se repite la cruza con los mismos\n",
        "    padres.\n",
        "    :param parent_1: padre 1\n",
        "    :param parent_2: padre 2\n",
        "    :return: hijo\n",
        "    \"\"\"\n",
        "    # Bit de cruza, siempre está incluído dentro de la parte del primer padre\n",
        "    cross_point = random.randint(1, parent_1.entity_bit_length-1)\n",
        "    clean_left_positions = parent_1.entity_bit_length - cross_point\n",
        "    # Bits del padre 1\n",
        "    parent_1_part = (parent_1.data << clean_left_positions) >> clean_left_positions\n",
        "    # Bits del padre 2\n",
        "    parent_2_part = (parent_2.data >> cross_point)  << cross_point\n",
        "    child_data = (parent_1_part | parent_2_part) % parent_1.upper_bound\n",
        "    child = parent_1.create_with_same_format(child_data)\n",
        "\n",
        "    return child\n"
      ]
    },
    {
      "cell_type": "code",
      "execution_count": null,
      "metadata": {
        "ExecuteTime": {
          "end_time": "2023-07-09T21:42:55.510080Z",
          "start_time": "2023-07-09T21:42:55.385425Z"
        },
        "id": "DmtWYWMuoF3v",
        "outputId": "687e6882-a23b-4d12-a819-c8f4aa6ef9e5",
        "colab": {
          "base_uri": "https://localhost:8080/"
        }
      },
      "outputs": [
        {
          "output_type": "stream",
          "name": "stdout",
          "text": [
            "Parent-1: 100000\n",
            "Parent-2: 001101\n",
            "Child (1 point crossover): 101100\n",
            "\n"
          ]
        }
      ],
      "source": [
        "# Probando cruza de 1 punto\n",
        "\n",
        "# Se usa un scope separado para no generar basura\n",
        "if True:\n",
        "    test_entity_2.set_data(0b001101) # Se cambia el valor de entidad de prueba 2 para mejor visualización\n",
        "    print(\n",
        "        \"Parent-1: %s\\nParent-2: %s\\nChild (1 point crossover): %s\\n\" % (\n",
        "            test_entity,\n",
        "            test_entity_2,\n",
        "            crossover_one_point(test_entity, test_entity_2)\n",
        "        )\n",
        "    )"
      ]
    },
    {
      "cell_type": "markdown",
      "metadata": {
        "id": "SedFTOEEoF3w"
      },
      "source": [
        "##### Cruza uniforme"
      ]
    },
    {
      "cell_type": "code",
      "execution_count": null,
      "metadata": {
        "ExecuteTime": {
          "end_time": "2023-07-09T21:42:55.510443Z",
          "start_time": "2023-07-09T21:42:55.398625Z"
        },
        "id": "voQcGHqnoF3w"
      },
      "outputs": [],
      "source": [
        "def crossover_uniform(parent_1: BinaryEntity, parent_2: BinaryEntity) -> BinaryEntity:\n",
        "    \"\"\"\n",
        "    Hace una cruza uniforme entre los padres donde se cruzan aleatoriamente todos sus bits,\n",
        "    el resultado siempre se le aplica un módulo con el límite superior (el que nada debe, nada teme),\n",
        "    si el resultado no es válido, se repite la cruza con los mismos padres.\n",
        "    :param parent_1: padre 1\n",
        "    :param parent_2: padre 2\n",
        "    :return: hijo\n",
        "    \"\"\"\n",
        "    child_data = 0 # Se construye el hijo bit a bit\n",
        "    for i in range(parent_1.entity_bit_length):\n",
        "        parent = parent_1 if random.random() < .5 else parent_2 # ¿Qué padre uso?\n",
        "        child_data += parent.data & 2 ** i # Agregar bit correspondiente del padre\n",
        "\n",
        "    child_data %= parent_1.upper_bound\n",
        "    child = parent_1.create_with_same_format(child_data)\n",
        "\n",
        "    return child\n"
      ]
    },
    {
      "cell_type": "code",
      "execution_count": null,
      "metadata": {
        "ExecuteTime": {
          "end_time": "2023-07-09T21:42:55.523322Z",
          "start_time": "2023-07-09T21:42:55.414279Z"
        },
        "id": "N7nQWOS3oF3w",
        "outputId": "cfb12af1-f6d4-4bb0-d51c-757fb1b3aecc",
        "colab": {
          "base_uri": "https://localhost:8080/"
        }
      },
      "outputs": [
        {
          "output_type": "stream",
          "name": "stdout",
          "text": [
            "Parent-1: 100000\n",
            "Parent-2: 001101\n",
            "Child (uniform crossover): 000100\n",
            "\n"
          ]
        }
      ],
      "source": [
        "# Probando cruza uniforme\n",
        "\n",
        "# Se usa un scope separado para no generar basura\n",
        "if True:\n",
        "    print(\n",
        "        \"Parent-1: %s\\nParent-2: %s\\nChild (uniform crossover): %s\\n\" % (\n",
        "            test_entity,\n",
        "            test_entity_2,\n",
        "            crossover_uniform(test_entity, test_entity_2)\n",
        "        )\n",
        "    )"
      ]
    },
    {
      "cell_type": "markdown",
      "metadata": {
        "id": "2qerGGCEoF3x"
      },
      "source": [
        "#### Mutación"
      ]
    },
    {
      "cell_type": "markdown",
      "metadata": {
        "id": "-yEjR3G8oF3x"
      },
      "source": [
        "##### Mutación de 1 bit aleatorio"
      ]
    },
    {
      "cell_type": "code",
      "execution_count": null,
      "metadata": {
        "ExecuteTime": {
          "end_time": "2023-07-09T21:42:55.523683Z",
          "start_time": "2023-07-09T21:42:55.425533Z"
        },
        "id": "kwLork43oF3y"
      },
      "outputs": [],
      "source": [
        "def mutation_one_bit_inversion(genome: BinaryEntity):\n",
        "    \"\"\"\n",
        "    Invierte un bit aleatorio del genoma, el resultado siempre se le aplica un módulo con el\n",
        "    límite superior (el que nada debe, nada teme), si el resultado no es válido, se repite la\n",
        "    cruza con los mismos padres.\n",
        "    :param genome: genoma a mutar\n",
        "    \"\"\"\n",
        "    # Se crea una copia del genoma para no afectar la instancia original\n",
        "    genome_copy = genome.create_with_same_format(genome.data)\n",
        "\n",
        "    # Se recupera un bit aleatorio\n",
        "    selected_bit = random.randint(0, genome_copy.entity_bit_length)\n",
        "    mask = 2 ** selected_bit\n",
        "    inspected_bit = (genome_copy.data & mask) >> selected_bit\n",
        "    # El bit sumado se suma o sustrae de la información de la copia de genoma\n",
        "    mutated_genome_data = genome_copy.data + mask * (-1 if inspected_bit == 1 else 1)\n",
        "    # Se introduce la información del genoma y se comprueba que sea un genoma válido\n",
        "    genome_copy.set_data(mutated_genome_data % genome_copy.upper_bound)\n",
        "\n",
        "    genome.set_data(genome_copy.data)\n"
      ]
    },
    {
      "cell_type": "code",
      "execution_count": null,
      "metadata": {
        "ExecuteTime": {
          "end_time": "2023-07-09T21:42:55.895847Z",
          "start_time": "2023-07-09T21:42:55.436440Z"
        },
        "id": "9l6U1fIJoF3y",
        "outputId": "01de6b40-e8c5-4ec9-af22-3df215144c6f",
        "colab": {
          "base_uri": "https://localhost:8080/"
        }
      },
      "outputs": [
        {
          "output_type": "stream",
          "name": "stdout",
          "text": [
            "Before Mutation:\t 100000\n",
            "After Mutation:\t 110000\n"
          ]
        }
      ],
      "source": [
        "# Probando mutación de inversión de 1 bit\n",
        "\n",
        "# Se usa un scope separado para no generar basura\n",
        "if True:\n",
        "    print(\"Before Mutation:\\t\", test_entity)\n",
        "    mutation_one_bit_inversion(test_entity)\n",
        "    print(\"After Mutation:\\t\", test_entity)\n"
      ]
    },
    {
      "cell_type": "markdown",
      "metadata": {
        "id": "e2BOmyl3oF3z"
      },
      "source": [
        "##### Intercambio de 2 bit aleatorios"
      ]
    },
    {
      "cell_type": "code",
      "execution_count": null,
      "metadata": {
        "ExecuteTime": {
          "end_time": "2023-07-09T21:42:55.896345Z",
          "start_time": "2023-07-09T21:42:55.451480Z"
        },
        "id": "JkcoCPsUoF3z"
      },
      "outputs": [],
      "source": [
        "def mutation_two_bit_swap(genome: BinaryEntity):\n",
        "    \"\"\"\n",
        "    Intercambia dos bits aleatorios del genoma, el resultado siempre se le aplica un módulo con el\n",
        "    límite superior (el que nada debe, nada teme), si el resultado no es válido, se repite la\n",
        "    cruza con los mismos padres.\n",
        "    :param genome: genoma a mutar\n",
        "    \"\"\"\n",
        "    # Se crea una copia del genoma para no afectar la instancia original\n",
        "    genome_copy = genome.create_with_same_format(genome.data)\n",
        "\n",
        "    # Se escongen dos bits distintos\n",
        "    first_bit = random.randint(0, genome_copy.entity_bit_length)\n",
        "    second_bit = first_bit\n",
        "    while first_bit == second_bit:\n",
        "        second_bit = random.randint(0, genome_copy.entity_bit_length)\n",
        "\n",
        "    # Se recupera cada bit a intercambiar\n",
        "    first_bit_mask = 2 ** first_bit\n",
        "    second_bit_mask = 2 ** second_bit\n",
        "    first_bit_value = (genome_copy.data & first_bit_mask) >> first_bit\n",
        "    second_bit_value = (genome_copy.data & second_bit_mask) >> second_bit\n",
        "\n",
        "    # Si los bits a intercambiar son iguales, ignora el intercambio\n",
        "    if first_bit_value != second_bit_value:\n",
        "        # El bit sumado se suma o sustrae de la información de la copia de genoma\n",
        "        mutated_genome_data = genome_copy.data\n",
        "        mutated_genome_data += first_bit_mask * (-1 if first_bit_value == 1 else 1)\n",
        "        mutated_genome_data += second_bit_mask * (-1 if second_bit_value == 1 else 1)\n",
        "\n",
        "        # Se introduce la información del genoma y se comprueba que sea un genoma válido\n",
        "        genome_copy.set_data(mutated_genome_data % genome_copy.upper_bound)\n",
        "\n",
        "    genome.set_data(genome_copy.data)\n"
      ]
    },
    {
      "cell_type": "code",
      "execution_count": null,
      "metadata": {
        "ExecuteTime": {
          "end_time": "2023-07-09T21:42:55.896778Z",
          "start_time": "2023-07-09T21:42:55.474977Z"
        },
        "id": "N0-JWc_7oF30",
        "outputId": "9a38e5eb-ac9e-49e3-fba7-c4280a52d31c",
        "colab": {
          "base_uri": "https://localhost:8080/"
        }
      },
      "outputs": [
        {
          "output_type": "stream",
          "name": "stdout",
          "text": [
            "Before Mutation:\t 110000\n",
            "After Mutation:\t 011000\n"
          ]
        }
      ],
      "source": [
        "# Probando mutación de intercambio de dos bits\n",
        "\n",
        "# Se usa un scope separado para no generar basura\n",
        "if True:\n",
        "    print(\"Before Mutation:\\t\", test_entity)\n",
        "    mutation_two_bit_swap(test_entity)\n",
        "    print(\"After Mutation:\\t\", test_entity)\n"
      ]
    },
    {
      "cell_type": "markdown",
      "metadata": {
        "id": "XI166cIcoF30"
      },
      "source": [
        "### Implementación de operadores de colmena de partículas"
      ]
    },
    {
      "cell_type": "markdown",
      "metadata": {
        "id": "e08x82q6oF31"
      },
      "source": [
        "#### Calculo de velocidad\n",
        "Calcula el vector de velocidad de cada dimensión para una partícula, el resultado está contenido dentro de la misma partícula la cual al ser una\n",
        "instancia de clase se maneja como una refencia."
      ]
    },
    {
      "cell_type": "code",
      "execution_count": null,
      "metadata": {
        "ExecuteTime": {
          "end_time": "2023-07-09T21:42:55.948183Z",
          "start_time": "2023-07-09T21:42:55.489378Z"
        },
        "id": "gEWcU2MEoF33"
      },
      "outputs": [],
      "source": [
        "def calculate_particle_velocity(particle: BinaryParticle, global_best: BinaryParticle, inertia: int, cognitive_weight: int, social_weight: int):\n",
        "    \"\"\"Modifica la referencia de la partícula para asignarle una nueva velocidad\"\"\"\n",
        "    for dim, dim_velocity in enumerate(particle.velocity):\n",
        "        particle.velocity[dim] = (\n",
        "            inertia * dim_velocity +\n",
        "            cognitive_weight * random.random() * (particle.particle_best.entities[dim].to_float() - particle.entities[dim].to_float()) +\n",
        "            social_weight * random.random() * (global_best.entities[dim].to_float() - particle.entities[dim].to_float())\n",
        "        )\n"
      ]
    },
    {
      "cell_type": "markdown",
      "metadata": {
        "id": "mVeC-5mtoF33"
      },
      "source": [
        "#### Nueva posición"
      ]
    },
    {
      "cell_type": "code",
      "execution_count": null,
      "metadata": {
        "ExecuteTime": {
          "end_time": "2023-07-09T21:42:55.965050Z",
          "start_time": "2023-07-09T21:42:55.513193Z"
        },
        "id": "JSOoE9d8oF33"
      },
      "outputs": [],
      "source": [
        "def calculate_particle_position(particle: BinaryParticle):\n",
        "    \"\"\"Modifica la referencia de la partícula para asignarle una nueva posición\"\"\"\n",
        "    for dim, dim_velocity in enumerate(particle.velocity):\n",
        "\n",
        "        # Calcular la nueva posición\n",
        "        new_position = particle.entities[dim].to_float() + particle.velocity[dim]\n",
        "        real_binary_limits = (2 ** particle.entities[dim].int_max_bits) - 1\n",
        "\n",
        "        # ¿Es menos de lo que la representación admite?\n",
        "        if new_position < -real_binary_limits:\n",
        "            new_position = -real_binary_limits\n",
        "\n",
        "        # ¿Es más de lo que la representación admite?\n",
        "        if new_position > real_binary_limits:\n",
        "            new_position = real_binary_limits\n",
        "\n",
        "        # Cambiar la entidad decimal en la partícula\n",
        "        particle.entities[dim] = particle.entities[dim].create_with_same_format(new_position)\n"
      ]
    },
    {
      "cell_type": "markdown",
      "metadata": {
        "id": "oU1lZSfdoF34"
      },
      "source": [
        "### Implementación de operadores de colonia de hormigas"
      ]
    },
    {
      "cell_type": "markdown",
      "metadata": {
        "id": "kwlAigmhoF34"
      },
      "source": [
        "### Implementación de conjuntos de operadores\n",
        "Se definen los distintos algoritmos que se utilizarán para la solución de problemas. Cada algoritmo corresponde a uno de los valores de Enum BioOperator\n",
        "## Problema:"
      ]
    },
    {
      "cell_type": "markdown",
      "metadata": {
        "id": "Ls2CeEDIoF34"
      },
      "source": [
        "#### Implementación de GA"
      ]
    },
    {
      "cell_type": "markdown",
      "metadata": {
        "id": "8YpA1quXoF35"
      },
      "source": [
        "##### Definición de parámetros para realización del algoritmo genético"
      ]
    },
    {
      "cell_type": "code",
      "execution_count": null,
      "metadata": {
        "ExecuteTime": {
          "end_time": "2023-07-09T21:42:55.965335Z",
          "start_time": "2023-07-09T21:42:55.522554Z"
        },
        "id": "wCyJib7roF35"
      },
      "outputs": [],
      "source": [
        "# Configuraciones de GA\n",
        "\n",
        "# Define variables para operadores de GA\n",
        "# NOTE: Los operadores siempre deben ser una tupla\n",
        "SELECTION_OPERATORS = selection_elitism, selection_tournament, selection_roulette\n",
        "CROSSOVER_OPERATORS = crossover_one_point, crossover_uniform\n",
        "MUTATION_OPERATORS = mutation_one_bit_inversion, mutation_two_bit_swap\n",
        "# Porcentaje de selección\n",
        "SELECTION_RATE=.10\n",
        "# Taza de mutación\n",
        "MUTATION_RATE = .4\n"
      ]
    },
    {
      "cell_type": "markdown",
      "metadata": {
        "id": "XfsCJFmMoF35"
      },
      "source": [
        "##### Implementación de algoritmo genético"
      ]
    },
    {
      "cell_type": "code",
      "execution_count": null,
      "metadata": {
        "ExecuteTime": {
          "end_time": "2023-07-09T21:42:55.967687Z",
          "start_time": "2023-07-09T21:42:55.538017Z"
        },
        "id": "vIiRGjRwoF36"
      },
      "outputs": [],
      "source": [
        "def ga_operators(population: list[BinaryEntity], score_func: callable) -> list[BinaryEntity]:\n",
        "    \"\"\"\n",
        "    Ejecuta operadores aleatorios de algoritmos genéticos\n",
        "    :param population: población para correr operadore\n",
        "    :param score_func: función de aptitud o función objetivo. \\\n",
        "    La función debe tener la siguiente firma: (<BinaryEntity>) -> <float>\n",
        "    :return: soluciones factible\n",
        "    \"\"\"\n",
        "    # Referencia a globales\n",
        "    global SELECTION_OPERATORS, CROSSOVER_OPERATORS, MUTATION_OPERATORS, SELECTION_RATE, MUTATION_RATE\n",
        "\n",
        "    # Se calcula score de cada individuo\n",
        "    scores = [score_func(individual) for individual in population]\n",
        "\n",
        "    # Se ejecutan operadores de selección aleatorios, se ordenan y escogen los mejores\n",
        "    # para la nueva población\n",
        "    selection_operator = SELECTION_OPERATORS[random.randint(0, len(SELECTION_OPERATORS))]\n",
        "    selected_population = list(selection_operator(population, scores))\n",
        "\n",
        "    selected_scores = [score_func(individual) for individual in selected_population]\n",
        "    selected_scores = sorted(population, key=lambda x: selected_scores[population.index(x)], reverse=True)\n",
        "    selected_individuals_index = round(MUTATION_RATE * len(population))\n",
        "\n",
        "    new_population = []\n",
        "    new_population.extend(\n",
        "        selected_population[:selected_individuals_index]\n",
        "    )\n",
        "    del selected_population\n",
        "\n",
        "    # Se cruzan los individuos aleatoriamente hasta restaurar la población\n",
        "    # Si el número de individuos es impar se omite una cruza aleatoria\n",
        "    parent_index = 0\n",
        "    while len(new_population) != len(population):\n",
        "        # Se hace la cruza entre los padres\n",
        "        # Selección aleatoria de operador de cruce\n",
        "        crossover_operator = CROSSOVER_OPERATORS[random.randint(0, len(CROSSOVER_OPERATORS))]\n",
        "\n",
        "        child = crossover_operator(\n",
        "            population[parent_index % len(population)],\n",
        "            population[(parent_index + 1) % len(population)],\n",
        "        )\n",
        "\n",
        "        # Se calcula la mutación del individuo\n",
        "        if random.random() < MUTATION_RATE:\n",
        "            # Selección aleatoria de operador de mutación\n",
        "            mutation_operator = MUTATION_OPERATORS[random.randint(0, len(MUTATION_OPERATORS))]\n",
        "            mutation_operator(child)\n",
        "\n",
        "        # Necesitamos generar soluciones válidas\n",
        "        if not child.validate():\n",
        "            continue\n",
        "\n",
        "        # Se añade el nuevo individuo\n",
        "        new_population.append(child)\n",
        "        parent_index += 2\n",
        "\n",
        "    return new_population\n",
        "\n"
      ]
    },
    {
      "cell_type": "markdown",
      "metadata": {
        "id": "9Q85o0NfoF36"
      },
      "source": []
    },
    {
      "cell_type": "markdown",
      "metadata": {
        "id": "s4XoRCH5oF36"
      },
      "source": [
        "#### Implementación de PSO"
      ]
    },
    {
      "cell_type": "markdown",
      "metadata": {
        "id": "IOvRUiu_oF37"
      },
      "source": [
        "##### Definición de parámetros para realización del algoritmo de optimización de enjambre de partículas"
      ]
    },
    {
      "cell_type": "code",
      "execution_count": null,
      "metadata": {
        "ExecuteTime": {
          "end_time": "2023-07-09T21:42:55.967927Z",
          "start_time": "2023-07-09T21:42:55.564051Z"
        },
        "id": "bn_tImcyoF37"
      },
      "outputs": [],
      "source": [
        "# Configuraciones de PSO\n",
        "\n",
        "# Define variables para operadores de GA\n",
        "INERTIA = 0.5\n",
        "COGNITIVE_WEIGHT = 1.0\n",
        "SOCIAL_WEIGHT = 1.0\n"
      ]
    },
    {
      "cell_type": "markdown",
      "metadata": {
        "id": "171RBRBeoF37"
      },
      "source": [
        "##### Implementación de optimización de enjambre de partículas"
      ]
    },
    {
      "cell_type": "code",
      "execution_count": null,
      "metadata": {
        "ExecuteTime": {
          "end_time": "2023-07-09T21:42:55.968024Z",
          "start_time": "2023-07-09T21:42:55.578142Z"
        },
        "id": "7XtDOIPWoF37"
      },
      "outputs": [],
      "source": [
        "def pso_operators(swarm: list[BinaryParticle], global_best: BinaryParticle):\n",
        "    \"\"\"\n",
        "    Ejecuta operadores de algoritmos de enjambre de partículas\n",
        "    :param swarm: colmena de partículas\n",
        "    :param global_best: mejor partícula de la colmena\n",
        "    :return: colmena actualizada\n",
        "    \"\"\"\n",
        "    global INERTIA, COGNITIVE_WEIGHT, SOCIAL_WEIGHT\n",
        "    for particle in swarm:\n",
        "        calculate_particle_velocity(particle, global_best, INERTIA,COGNITIVE_WEIGHT,SOCIAL_WEIGHT)\n",
        "        calculate_particle_position(particle)\n"
      ]
    },
    {
      "cell_type": "markdown",
      "metadata": {
        "id": "2G8AWo-MoF38"
      },
      "source": [
        "## Implementación del algoritmo general\n",
        "Este es la función que con ciertas configuraciones aplica un algoritmo u otro, dada un serie determinada de características"
      ]
    },
    {
      "cell_type": "code",
      "execution_count": null,
      "metadata": {
        "ExecuteTime": {
          "end_time": "2023-07-09T21:42:55.968136Z",
          "start_time": "2023-07-09T21:42:55.596451Z"
        },
        "id": "GhvEVZX4oF38"
      },
      "outputs": [],
      "source": [
        "def bio_runner(\n",
        "        genome_template: BinaryEntity,\n",
        "        entity_qty: int,\n",
        "        operators: BioOperator,\n",
        "        problem_func: callable,\n",
        "        cycles: int = 10,\n",
        "        dims: int=1\n",
        ") -> list[BinaryEntity, BinaryEntity, MultiDimensionalBinaryEntity, BinaryParticle]:\n",
        "    # Información adicional que pueda necesitar un algoritmo\n",
        "    alg_data = dict()\n",
        "\n",
        "    # Generar <entity_qty> entidades\n",
        "    entities = None\n",
        "    if operators == BioOperator.GA_OPERATORS:\n",
        "        entities = generate_entities(genome_template, entity_qty)\n",
        "    if operators == BioOperator.PSO_OPERATORS:\n",
        "        entities = [BinaryParticle.generate_based_in(genome_template, dims) for _ in range(entity_qty)]\n",
        "        for entity in entities:\n",
        "            if \"global_best\" not in alg_data.keys():\n",
        "                alg_data[\"global_best\"] = entity\n",
        "            elif problem_func(alg_data[\"global_best\"]) < problem_func(entity):\n",
        "                alg_data[\"global_best\"] = entity\n",
        "\n",
        "    # Aplica el algoritmo\n",
        "    for cycle in range(cycles):\n",
        "        # Correr operadors de AG\n",
        "        if operators == BioOperator.GA_OPERATORS:\n",
        "            entities = ga_operators(entities, problem_func)\n",
        "        # Correr operadores de PSO\n",
        "        elif operators == BioOperator.PSO_OPERATORS:\n",
        "            pso_operators(entities, alg_data[\"global_best\"])\n",
        "            # Actualizar particle_best y global_best\n",
        "            for entity in entities:\n",
        "                if problem_func(entity.particle_best) > problem_func(entity):\n",
        "                    entity.particle_best = entity\n",
        "                if problem_func(alg_data[\"global_best\"]) < problem_func(entity):\n",
        "                    alg_data[\"global_best\"] = entity\n",
        "        else:\n",
        "            raise Exception(f'Can\\'t find the specified operator: {operators}')\n",
        "    # explicar resultados\n",
        "    print(f'Finished {cycle} cycles')\n",
        "\n",
        "    # organizar resultados\n",
        "    entities = sorted(entities, key=lambda x: problem_func(x), reverse=True)\n",
        "    return entities\n"
      ]
    },
    {
      "cell_type": "markdown",
      "metadata": {
        "id": "E-TWvxD1oF39"
      },
      "source": [
        "# Problema 1: Problema propuesta de manera individual\n",
        "# GA"
      ]
    },
    {
      "cell_type": "markdown",
      "metadata": {
        "id": "5vz9Pv8IoF39"
      },
      "source": [
        "Durante un partido de tenis ocurre la jugada final para determinar el punto de partido (juego, set y partido) y el jugador que ataca tiene la oportunidad de ganar ese punto lanzando la bola a una posición en la que el jugador defensor no pueda alcanzar o que se le dificulte responder ¿Cuáles son las mejores opciones para que el jugador atacante lance la bola y gane el punto?\n",
        "\n",
        "## Espacio de búsqueda:\n",
        "* La cancha de tenis está representada por dos mitades\n",
        "* Cada mitad de la cancha está dividida en 6 posiciones enumeradas donde 0 ≤ x ≤ 5\n",
        "* Las posiciones de cada mitad cancha están dispuestas de manera que:\n",
        " * Las posiciones pares son consideradas como posiciones de fondo de la cancha\n",
        " * Las posiciones impares son consideradas como posiciones de cercanas a la red\n",
        " * Siempre existen tres posiciones impares y tres pares\n",
        " * La númeración de las posiciones siempre tendrán los mayores valores hacia la mano hábil del jugador\n",
        "* Cada mitad de cancha puede tener un disposión de la numeración diferente, siempre que cumplan con las reglas anteriores.\n",
        "\n",
        "### Ejemplos:\n",
        "**Leyenda:**\n",
        "* [0-5] - posiciones\n",
        "* \\# - red separadora de las mitades de cancha\n",
        "\n",
        "**Cancha donde los jugadores tienen la misma mano hábil**\n",
        "\n",
        "||||\n",
        "|:---|:----:|---:|\n",
        "|0|2|4|\n",
        "|1|3|5|\n",
        "|#|#|#|\n",
        "|5|3|1|\n",
        "|4|2|0|\n",
        "\n",
        "**Cancha donde los jugadores tienen distinta mano hábil**\n",
        "\n",
        "||||\n",
        "|:---|:----:|---:|\n",
        "|0|2|4|\n",
        "|1|3|5|\n",
        "|#|#|#|\n",
        "|1|3|5|\n",
        "|0|2|4|\n",
        "\n",
        "\n",
        "## Restricciones:\n",
        "* Cada representación de la cancha (sus dos mitades) consideran la existencia de dos **jugadores (ja y jd)** y solo puede ser respondida con una representación de la posición de una **bola (b)**.\n",
        "* En cada mitad de cancha solo puede existir un jugador.\n",
        "* Cada jugador **solo puede ocupar una posición de su mitad de cancha** y según su propia distribución de posiciones en la cancha.\n",
        "* Si el atacante está en la posición 3, siempre lanzará la bola a posiciones impares en la otra mitad de cancha.\n",
        "\n",
        "## Representación de las entidades del problema\n",
        "### Entidades caso\n",
        "Posición p (3 bits), su valor **p está contenido en [000, 101]**, valores fuera del rango serán asignados aleatoriamente\n",
        ":\tSe refiere a la posición de la bola o jugadores (atacante y defensor). En el caso de los jugadores (asumiendo que tienen la misma mano hábil) las posiciones son en forma de espejo. La mano hábil del jugador determina la colocación de las posiciones, dando las posiciones más altas hacia la mano hábil.\n",
        "* 001 - posición 1\n",
        "* 000 - posición 0\n",
        "* 101 - posición 5\n",
        "\n",
        "Jugador j (3 bits) -> Posición\n",
        ": Se refiere a una abstracción de un jugador, representando su mano hábil y la posición en que se encuentra según la distribución de posiciones asignadas\n",
        "* 001 - jugador en posición 1\n",
        "* 011 - jugador en posición 3\n",
        "\n",
        "Caso jugada c (8 bits) -> Jugador atacante + Jugador defensor\n",
        ": Se refiere a una abstracción de dos jugadores, donde ambos están representados por la abstracción Jugador anteriormente definida\n",
        "* 001011 - atacante en posición 1 y defensor en posición 3\n",
        "* 011001 - atacante en posición 3 y defensor en posición 1\n",
        "\n",
        "### Entidades solución\n",
        "\n",
        "Posición de la Bola b (3 bits) -> Posición\n",
        ": Se refiere a la posición de la bola según la distribución de las posiciones correspondiente al jugador defensor\n",
        "* 001 - posición 1\n",
        "* 000 - posición 0\n",
        "* 101 - posición 5\n",
        "\n",
        "## Ejemplos de caso y solución:\n",
        "\n",
        "**Leyenda:**\n",
        "* [0-5] - posiciones\n",
        "* \\# - red separadora de las mitades de cancha\n",
        "* ja - jugador atacante\n",
        "* jd - jugador defensor\n",
        "\n",
        "**Ejemplo 1: Cancha donde los jugadores tienen la misma mano hábil**\n",
        "Caso: 001011\n",
        "\n",
        "||||\n",
        "|:---|:----:|---:|\n",
        "|0|2|4|\n",
        "|1 **ja**|3|5|\n",
        "|#|#|#|\n",
        "|5|3 **jd**|1|\n",
        "|4|2|0|\n",
        "\n",
        "**Solución:** posición 000\n",
        "\n",
        "**Ejemplo 2: Cancha donde los jugadores tienen distinta mano hábil**\n",
        "Caso: 100011\n",
        "\n",
        "||||\n",
        "|:---|:----:|---:|\n",
        "|0|2|4 **ja**|\n",
        "|1|3|5|\n",
        "|#|#|#|\n",
        "|1|3 **jd**|5|\n",
        "|0|2|4|\n",
        "\n",
        "**Solución:** posición 000\n",
        "\n",
        "## Implementación de la solución"
      ]
    },
    {
      "cell_type": "code",
      "execution_count": null,
      "metadata": {
        "ExecuteTime": {
          "end_time": "2023-07-09T21:42:55.968318Z",
          "start_time": "2023-07-09T21:42:55.603710Z"
        },
        "id": "qvi7dvRaoF3-"
      },
      "outputs": [],
      "source": [
        "# Ajustando variables de algoritmo genético\n",
        "\n",
        "SELECTION_OPERATORS = selection_tournament, selection_roulette\n",
        "CROSSOVER_OPERATORS = crossover_one_point,\n",
        "MUTATION_OPERATORS = mutation_one_bit_inversion,\n",
        "\n",
        "# Taza de mutación\n",
        "MUTATION_RATE = .3"
      ]
    },
    {
      "cell_type": "code",
      "execution_count": null,
      "metadata": {
        "ExecuteTime": {
          "end_time": "2023-07-09T21:42:55.968448Z",
          "start_time": "2023-07-09T21:42:55.613267Z"
        },
        "id": "5qpFYG67oF4A"
      },
      "outputs": [],
      "source": [
        "# Información común que comparten los genomas de problema y solución\n",
        "\n",
        "# Enum para decodificación de las posiciones\n",
        "class TennisPositions(Enum):\n",
        "    Fondo_Mano_No_Habil = 0\n",
        "    Red_Mano_No_Habil = 1\n",
        "    Fondo_Centro_Cancha = 2\n",
        "    Red_Centro_Cancha = 3\n",
        "    Fondo_Mano_Habil = 4\n",
        "    Red_Mano_Habil=5\n"
      ]
    },
    {
      "cell_type": "code",
      "execution_count": null,
      "metadata": {
        "ExecuteTime": {
          "end_time": "2023-07-09T21:42:55.968678Z",
          "start_time": "2023-07-09T21:42:55.635506Z"
        },
        "id": "pLXHMU2WoF4A",
        "outputId": "228b2076-231e-4436-db17-d511d32e4f94",
        "colab": {
          "base_uri": "https://localhost:8080/"
        }
      },
      "outputs": [
        {
          "output_type": "stream",
          "name": "stdout",
          "text": [
            "About to create 1 entities:\n",
            "0 - real: 32\tbin: 100000\trange: [0,45]\tbits: 6\thas validation: True\tis valid: True\n",
            "\n"
          ]
        }
      ],
      "source": [
        "# Se define el caso/(posición de los jugadores) como una entidad a generar\n",
        "\n",
        "# Función de validación de un caso\n",
        "def player_pos_case_validation(genome: BinaryEntity) -> bool:\n",
        "    for codon in genome.get_sub_entities():\n",
        "        if 0 < codon.data > 5:\n",
        "            return False\n",
        "    return True\n",
        "\n",
        "# Función decodificador para caso del problema\n",
        "def decode_tennis_case(genome: BinaryEntity) -> str:\n",
        "    return \"Caso %s:\\nPos Atk: %s\\nPos Def: %s\" % (\n",
        "        genome,\n",
        "        TennisPositions(genome.get_sub_entities()[0].data).name.replace('_', ' ' ),\n",
        "        TennisPositions(genome.get_sub_entities()[1].data).name.replace('_', ' ' ),\n",
        "    )\n",
        "\n",
        "# Genoma de un caso, representa la posición del jugador atacante y defensor\n",
        "player_pos_case_template = BinaryEntity(\n",
        "    0,\n",
        "    6,\n",
        "    sub_entities_length=[3,3],\n",
        "    validation_func=player_pos_case_validation,\n",
        "    upper_bound=0b101101,\n",
        ")\n",
        "\n",
        "player_pos_case = generate_entities(player_pos_case_template, 1, verbose=True)[0]"
      ]
    },
    {
      "cell_type": "code",
      "execution_count": null,
      "metadata": {
        "ExecuteTime": {
          "end_time": "2023-07-09T21:42:55.968991Z",
          "start_time": "2023-07-09T21:42:55.646042Z"
        },
        "id": "_RAEyfxMoF4B"
      },
      "outputs": [],
      "source": [
        "# Función de validación del genoma de la solución/bola\n",
        "def winner_shot_solution_validation(genome: BinaryEntity) -> bool:\n",
        "    return 0 <= genome.data <= 5\n",
        "\n",
        "# Función de aptitud de la solución/bola (se aplica para calcular el score de los individuos)\n",
        "def tennis_fit_function(genome: BinaryEntity) -> float:\n",
        "    \"\"\"Probabilidad de que el defensor falle la bola\"\"\"\n",
        "    global player_pos_case\n",
        "    # Obtener posiciones de atacante y defensor\n",
        "    attacker_pos = player_pos_case.data >> 3\n",
        "    defender_pos = player_pos_case.data & 0b111\n",
        "    # Calcular la esquina de la cancha con mayor distancia\n",
        "    max_distance = max(\n",
        "        abs(defender_pos - 0),\n",
        "        abs(defender_pos - 5)\n",
        "    )\n",
        "    # Si el atacante está en el centro de la net, siempre hará una dejada a posiciones delanteras\n",
        "    ball_data = genome.data\n",
        "    if attacker_pos  == 3 and genome.data % 2 == 0:\n",
        "        ball_data += 1\n",
        "\n",
        "    # Precisión del tiro\n",
        "    shot_accuracy = abs(ball_data - defender_pos) / max_distance\n",
        "\n",
        "    # Factor de disparar a mano hábil del jugador defensor\n",
        "    hand_factor = .5\n",
        "    if ball_data > 3: # Mayor afinidad para el jugador defensor\n",
        "        hand_factor = 0\n",
        "    elif ball_data < 2: # Menor afinidad para el jugador defensor\n",
        "        hand_factor = 1\n",
        "\n",
        "    # Probabilidad de que el defensor falle la bola\n",
        "    return (shot_accuracy + hand_factor) / 2\n",
        "\n",
        "\n",
        "# Función de decodificación de resultados\n",
        "def decode_tennis_result(genome: BinaryEntity) -> str:\n",
        "    return \"Tiro a %s:%s - %2f\" % (\n",
        "        genome,\n",
        "        TennisPositions(genome.data).name.replace('_', ' ' ),\n",
        "        tennis_fit_function(genome)\n",
        "    )\n",
        "\n",
        "\n",
        "# Construyendo características del genoma de la bola/solución\n",
        "ball_entity_template = BinaryEntity(\n",
        "    0, # Valor dummy\n",
        "    3, # Cuántos bits tiene cada solución\n",
        "    validation_func=winner_shot_solution_validation,\n",
        "    upper_bound=0b101 # Se define el máximo valor del genoma\n",
        ")\n"
      ]
    },
    {
      "cell_type": "code",
      "execution_count": null,
      "metadata": {
        "ExecuteTime": {
          "end_time": "2023-07-09T21:42:55.969270Z",
          "start_time": "2023-07-09T21:42:55.666958Z"
        },
        "id": "_OMvZlYCoF4B",
        "outputId": "4accc024-57b2-41d1-aca4-3a35710d7944",
        "colab": {
          "base_uri": "https://localhost:8080/"
        }
      },
      "outputs": [
        {
          "output_type": "stream",
          "name": "stdout",
          "text": [
            "True\n",
            "About to create 5 entities:\n",
            "\n",
            "Finished 9 cycles\n",
            "Caso 100000:\n",
            "Pos Atk: Fondo Mano No Habil\n",
            "Pos Def: Fondo Mano Habil \n",
            "Resultados:\n",
            "Tiro a 001:Red Mano No Habil - 0.600000\n",
            "Tiro a 011:Red Centro Cancha - 0.550000\n",
            "Tiro a 011:Red Centro Cancha - 0.550000\n",
            "Tiro a 011:Red Centro Cancha - 0.550000\n",
            "Tiro a 010:Fondo Centro Cancha - 0.450000\n"
          ]
        }
      ],
      "source": [
        "# Correr y mostrar resultados\n",
        "print(BioOperator.GA_OPERATORS == BioOperator.GA_OPERATORS)\n",
        "\n",
        "p1_exec_time = time.time().real\n",
        "results = bio_runner(ball_entity_template, 5, BioOperator.GA_OPERATORS, tennis_fit_function, cycles=10)\n",
        "p1_exec_time = time.time().real - p1_exec_time\n",
        "\n",
        "print(decode_tennis_case(player_pos_case),'\\nResultados:')\n",
        "for result in results:\n",
        "    print(decode_tennis_result(result))"
      ]
    },
    {
      "cell_type": "markdown",
      "metadata": {
        "id": "uX9AgYwnoF4C"
      },
      "source": [
        "# Problema 2: Emparejar frases\n",
        "GA"
      ]
    },
    {
      "cell_type": "markdown",
      "metadata": {
        "id": "cbtzkM6PoF4C"
      },
      "source": [
        "## Problema:\n",
        "\n",
        "Dada una cadena objetivo, el objetivo es producir una cadena objetivo a partir de una cadena aleatoria de la misma longitud.\n",
        "\n",
        "## Características:\n",
        "\n",
        "* Los caracteres a-z y símbolos espacio se consideran genes, representados por el ínidice correspondiente a cada valor codificado en binario.\n",
        "\n",
        "* Una cadena generada por estos caracteres se considera como cromosoma/solución/individuo.\n",
        "\n",
        "* El valor de aptitud es el número de caracteres que coinciden de los caracteres de la cadena de destino en un índice particular.\n",
        "\n",
        "* Por lo tanto, se da más preferencia a las personas que tienen un valor de aptitud más alto."
      ]
    },
    {
      "cell_type": "code",
      "execution_count": null,
      "metadata": {
        "ExecuteTime": {
          "end_time": "2023-07-09T21:42:55.969361Z",
          "start_time": "2023-07-09T21:42:55.679605Z"
        },
        "id": "ppGpZGTaoF4D"
      },
      "outputs": [],
      "source": [
        "# Ajustando variables de algoritmo genético\n",
        "\n",
        "SELECTION_OPERATORS = selection_elitism,\n",
        "CROSSOVER_OPERATORS = crossover_uniform,\n",
        "MUTATION_OPERATORS = mutation_one_bit_inversion,\n",
        "\n",
        "# Taza de mutación\n",
        "MUTATION_RATE = .3"
      ]
    },
    {
      "cell_type": "code",
      "execution_count": null,
      "metadata": {
        "ExecuteTime": {
          "end_time": "2023-07-09T21:42:55.969459Z",
          "start_time": "2023-07-09T21:42:55.690942Z"
        },
        "id": "t3D4y3FXoF4D"
      },
      "outputs": [],
      "source": [
        "# Calculando variables para definición del problema\n",
        "\n",
        "target_string = \"mundo lindo\" # Palabra objetivo\n",
        "search_space= string.ascii_lowercase + \" \" # Espacio de búsqueda\n",
        "last_character_index = len(search_space) - 1 # Último índice del espacio de búsqueda\n",
        "last_character_index_bin = bin(last_character_index)[2:] # Último índice del espaci`o de búsqueda en binario\n",
        "max_value_bin = len(target_string) * last_character_index_bin # Valor máximo que puede tomar el genoma en binario\n",
        "max_value = int(max_value_bin, 2) # Valor máximo que puede tomar el genoma\n"
      ]
    },
    {
      "cell_type": "code",
      "execution_count": null,
      "metadata": {
        "ExecuteTime": {
          "end_time": "2023-07-09T21:42:55.969635Z",
          "start_time": "2023-07-09T21:42:55.725227Z"
        },
        "id": "jlEEmmH2oF4D"
      },
      "outputs": [],
      "source": [
        "# Función de validación del genoma\n",
        "def phrase_match_solution_validation(genome: BinaryEntity) -> bool:\n",
        "    for codon in genome.get_sub_entities():\n",
        "        if codon.data > last_character_index:\n",
        "            return False\n",
        "    return True\n",
        "\n",
        "# Función objetivo (se aplica para calcular el score de los individuos)\n",
        "def target_function(genome: BinaryEntity) -> float:\n",
        "    total_matches = len(target_string)\n",
        "    matches = 0\n",
        "    pairs = zip(genome.get_sub_entities(), target_string)\n",
        "    for pair in pairs:\n",
        "        matches += 1 if pair[1] == search_space[pair[0].data] else 0\n",
        "    return matches / total_matches\n",
        "\n",
        "# Función de decodificación de resultados\n",
        "def decode_result(genome: BinaryEntity) -> str:\n",
        "    phrase = \"\"\n",
        "    for codon in genome.get_sub_entities():\n",
        "        phrase += search_space[codon.data]\n",
        "    return phrase\n",
        "\n",
        "# Construyendo características del genoma (espacio de búsqueda)\n",
        "template_entity = BinaryEntity(\n",
        "    0, # Valor dummy\n",
        "    len(max_value_bin), # Cuántos bits tiene cada solución\n",
        "    sub_entities_length=[len(last_character_index_bin) for _ in target_string], # Se define el tamaño de cada codón\n",
        "    validation_func=phrase_match_solution_validation,\n",
        "    upper_bound=max_value # Se define el máximo valor del genoma\n",
        ")\n"
      ]
    },
    {
      "cell_type": "code",
      "execution_count": null,
      "metadata": {
        "ExecuteTime": {
          "end_time": "2023-07-09T21:42:57.050340Z",
          "start_time": "2023-07-09T21:42:55.770621Z"
        },
        "id": "10A_iY8JoF4E"
      },
      "outputs": [],
      "source": [
        "# Correr y mostrar resultados\n",
        "p2_exec_time = time.time().real\n",
        "results = bio_runner(template_entity, 100, BioOperator.GA_OPERATORS, target_function, cycles=100)\n",
        "p2_exec_time = time.time().real - p2_exec_time\n",
        "# Mostrar resultados\n",
        "for result in results[:10]:\n",
        "    print(decode_result(result))\n"
      ]
    },
    {
      "cell_type": "markdown",
      "metadata": {
        "id": "Typ4J-JpoF4E"
      },
      "source": [
        "# Problema 3: Optimización de una función matemática\n",
        "# PSO\n",
        "Optimización de la función de dos dimensiones:\n",
        "$$ f(a,b) = 2a^2+b^3 $$"
      ]
    },
    {
      "cell_type": "code",
      "execution_count": null,
      "metadata": {
        "ExecuteTime": {
          "end_time": "2023-07-09T21:42:57.321127Z",
          "start_time": "2023-07-09T21:42:57.049909Z"
        },
        "id": "YKdLs9tBoF4F",
        "outputId": "47413f2b-8197-4ca1-ec94-da11c5b55818",
        "colab": {
          "base_uri": "https://localhost:8080/"
        }
      },
      "outputs": [
        {
          "output_type": "stream",
          "name": "stdout",
          "text": [
            "About to create 2 entities:\n",
            "\n",
            "About to create 2 entities:\n",
            "\n",
            "About to create 2 entities:\n",
            "\n",
            "About to create 2 entities:\n",
            "\n",
            "About to create 2 entities:\n",
            "\n",
            "About to create 2 entities:\n",
            "\n",
            "About to create 2 entities:\n",
            "\n",
            "About to create 2 entities:\n",
            "\n",
            "About to create 2 entities:\n",
            "\n",
            "About to create 2 entities:\n",
            "\n",
            "Finished 99 cycles\n",
            "[63.0, 63.0]\n",
            "[63.0, 63.0]\n",
            "[63.0, 63.0]\n",
            "[63.0, 63.0]\n",
            "[63.0, 63.0]\n",
            "[63.0, 63.0]\n",
            "[63.0, 63.0]\n",
            "[63.0, 63.0]\n",
            "[63.0, 63.0]\n",
            "[63.0, 63.0]\n"
          ]
        }
      ],
      "source": [
        "def func(p: BinaryParticle):\n",
        "    return (2*p.entities[0].to_float())**2 + p.entities[1].to_float()**3\n",
        "\n",
        "p3_exec_time = time.time().real\n",
        "binary_decimal_template = BinaryDecimalEntity(0, 6) # Soluciones entre -127.99 y 127.99\n",
        "p3_exec_time = time.time().real - p3_exec_time\n",
        "\n",
        "for solution in bio_runner(binary_decimal_template, 10, BioOperator.PSO_OPERATORS, func, cycles=100, dims=2):\n",
        "    print([e.to_float() for e in solution.entities])"
      ]
    },
    {
      "cell_type": "markdown",
      "metadata": {
        "id": "RkN6peqKoF4F"
      },
      "source": [
        "# Problema 4: Optimización de dos funciones matemáticas\n",
        "# PSO\n",
        "1. Optimización de la función de dos dimensiones:\n",
        "$$ f(a,b) = 2a^2+b^3 $$\n",
        "2. Optimización de la función de n dimensiones:\n",
        "$$ f(x_1 \\cdots x_n) = 10n + \\sum_{i=1}^n (x_i^2 -10cos(2\\pi x_i)) $$"
      ]
    },
    {
      "cell_type": "code",
      "execution_count": null,
      "metadata": {
        "ExecuteTime": {
          "end_time": "2023-07-09T21:42:57.931945Z",
          "start_time": "2023-07-09T21:42:57.328901Z"
        },
        "id": "iZx4KApUoF4G",
        "outputId": "df611a82-daea-4505-e134-338343ffc23d",
        "colab": {
          "base_uri": "https://localhost:8080/"
        }
      },
      "outputs": [
        {
          "output_type": "stream",
          "name": "stdout",
          "text": [
            "About to create 5 entities:\n",
            "\n",
            "About to create 5 entities:\n",
            "\n",
            "About to create 5 entities:\n",
            "\n",
            "About to create 5 entities:\n",
            "\n",
            "About to create 5 entities:\n",
            "\n",
            "About to create 5 entities:\n",
            "\n",
            "About to create 5 entities:\n",
            "\n",
            "About to create 5 entities:\n",
            "\n",
            "About to create 5 entities:\n",
            "\n",
            "About to create 5 entities:\n",
            "\n",
            "Finished 99 cycles\n",
            "[63.0, 63.0, -63.0, 63.0, -63.0]\n",
            "[63.0, 63.0, -63.0, 63.0, -63.0]\n",
            "[63.0, 63.0, -63.0, 63.0, -63.0]\n",
            "[63.0, 63.0, -63.0, 63.0, -63.0]\n",
            "[63.0, 63.0, -63.0, 63.0, -63.0]\n",
            "[63.0, 63.0, -63.0, 63.0, -63.0]\n",
            "[63.0, 63.0, -63.0, 63.0, -63.0]\n",
            "[63.0, 63.0, -63.0, 63.0, -63.0]\n",
            "[63.0, 63.0, -63.0, 63.0, -63.0]\n",
            "[63.0, 63.0, -63.0, 63.0, -63.0]\n"
          ]
        }
      ],
      "source": [
        "def func1(p: BinaryParticle):\n",
        "    return (2*p.entities[0].to_float())**2 + p.entities[1].to_float()**3\n",
        "\n",
        "def func2(p: BinaryParticle):\n",
        "    r = 10 * len(p.entities)\n",
        "    for entity in p.entities:\n",
        "        r += (entity.to_float() ** 2) - (10 * math.cos(2*math.pi*entity.to_float()))\n",
        "    return r\n",
        "\n",
        "def func(p: BinaryParticle):\n",
        "    return func1(p) + func2(p)\n",
        "\n",
        "p4_exec_time = time.time().real\n",
        "binary_decimal_template = BinaryDecimalEntity(0, 6) # Soluciones entre -127.99 y 127.99\n",
        "p4_exec_time = time.time().real - p4_exec_time\n",
        "\n",
        "for solution in bio_runner(binary_decimal_template, 10, BioOperator.PSO_OPERATORS, func, cycles=100, dims=5):\n",
        "    print([e.to_float() for e in solution.entities])"
      ]
    },
    {
      "cell_type": "markdown",
      "metadata": {
        "id": "NLbislLcoF4G"
      },
      "source": [
        "# Extra (ACO):\n",
        "Como no pudo ser implementado ACO, se hizo un ejemplo de este resolviendo el problema del viajero (TSP - Traveling Salesman Problem), ya que es un problema clásico en la informática y la investigación de operaciones. Propone que, dadas las ciudades y las distancias entre cada par de ellas, el problema es encontrar la ruta más corta posible que visite cada ciudad exactamente una vez y regrese a la ciudad de origen."
      ]
    },
    {
      "cell_type": "code",
      "execution_count": null,
      "metadata": {
        "ExecuteTime": {
          "end_time": "2023-07-09T21:42:57.992756Z",
          "start_time": "2023-07-09T21:42:57.943873Z"
        },
        "id": "_d_G4uqAoF4G",
        "outputId": "669cbfb9-5d05-47ab-eef6-aaea0b171fe2",
        "colab": {
          "base_uri": "https://localhost:8080/"
        }
      },
      "outputs": [
        {
          "output_type": "stream",
          "name": "stdout",
          "text": [
            "Mejor camino:  [4, 3, 6, 2, 5, 0, 1]\n",
            "Mejor distancia:  29.964401876462816\n"
          ]
        }
      ],
      "source": [
        "import random\n",
        "import math\n",
        "\n",
        "# Lista de ciudades como coordenadas (x, y)\n",
        "ciudades = [(1, 1), (8, 1), (4, 6), (7, 10), (9, 7), (2, 4), (3, 9)]\n",
        "\n",
        "def calcular_distancia(ciudad1, ciudad2):\n",
        "    return math.sqrt((ciudad1[0] - ciudad2[0]) ** 2 + (ciudad1[1] - ciudad2[1]) ** 2)\n",
        "\n",
        "def crear_matriz_distancias(ciudades):\n",
        "    matriz_distancias = []\n",
        "    for i in range(len(ciudades)):\n",
        "        fila = []\n",
        "        for j in range(len(ciudades)):\n",
        "            fila.append(calcular_distancia(ciudades[i], ciudades[j]))\n",
        "        matriz_distancias.append(fila)\n",
        "    return matriz_distancias\n",
        "\n",
        "matriz_distancias = crear_matriz_distancias(ciudades)\n",
        "\n",
        "def aco_tsp(numero_hormigas, numero_iteraciones, coef_evaporacion):\n",
        "    matriz_feromonas = [[1 for _ in range(len(ciudades))] for _ in range(len(ciudades))]\n",
        "    mejor_camino = None\n",
        "    mejor_distancia = float(\"inf\")\n",
        "\n",
        "    for _ in range(numero_iteraciones):\n",
        "        caminos = []\n",
        "        for _ in range(numero_hormigas):\n",
        "            ciudades_visitadas = [random.randint(0, len(ciudades) - 1)]\n",
        "            while len(ciudades_visitadas) < len(ciudades):\n",
        "                probabilidades = []\n",
        "                for ciudad in range(len(ciudades)):\n",
        "                    if ciudad not in ciudades_visitadas:\n",
        "                        feromona = matriz_feromonas[ciudades_visitadas[-1]][ciudad]\n",
        "                        distancia = matriz_distancias[ciudades_visitadas[-1]][ciudad]\n",
        "                        probabilidad = feromona / distancia\n",
        "                        probabilidades.append((probabilidad, ciudad))\n",
        "                probabilidades.sort(reverse=True)\n",
        "                ciudades_visitadas.append(probabilidades[0][1])\n",
        "            caminos.append(ciudades_visitadas)\n",
        "\n",
        "        # Evaporación de feromonas\n",
        "        for i in range(len(matriz_feromonas)):\n",
        "            for j in range(len(matriz_feromonas[i])):\n",
        "                matriz_feromonas[i][j] *= (1 - coef_evaporacion)\n",
        "\n",
        "        for camino in caminos:\n",
        "            distancia = sum([matriz_distancias[camino[i]][camino[i + 1]] for i in range(len(camino) - 1)] + [matriz_distancias[camino[-1]][camino[0]]])\n",
        "            if distancia < mejor_distancia:\n",
        "                mejor_distancia = distancia\n",
        "                mejor_camino = camino\n",
        "\n",
        "            # Actualizar feromonas\n",
        "            for i in range(len(camino) - 1):\n",
        "                matriz_feromonas[camino[i]][camino[i + 1]] += 1 / distancia\n",
        "            matriz_feromonas[camino[-1]][camino[0]] += 1 / distancia\n",
        "\n",
        "    return mejor_camino, mejor_distancia\n",
        "\n",
        "aco_exec_time = time.time().real\n",
        "mejor_camino, mejor_distancia = aco_tsp(10, 100, 0.1)\n",
        "aco_exec_time = time.time().real - aco_exec_time\n",
        "print(\"Mejor camino: \", mejor_camino)\n",
        "print(\"Mejor distancia: \", mejor_distancia)\n"
      ]
    },
    {
      "cell_type": "markdown",
      "metadata": {
        "id": "ZI45hJu_oF4H"
      },
      "source": [
        "En este código, además de la matriz de distancias, se introduce una matriz de feromonas. Cada hormiga actualiza la matriz de feromonas al completar su recorrido. La cantidad de feromonas depositadas en cada tramo es inversamente proporcional a la longitud del recorrido. También se introduce la evaporación de feromonas, que disminuye la cantidad de feromonas en cada tramo después de cada iteración. Además, la elección de la siguiente ciudad por cada hormiga ahora depende tanto de la distancia hasta la ciudad como de la cantidad de feromonas en el tramo hasta la ciudad."
      ]
    },
    {
      "cell_type": "markdown",
      "metadata": {
        "id": "ADlSMpZ-oF4H"
      },
      "source": [
        "# Se muestran los tiempos de ejecución de cada algoritmo:"
      ]
    },
    {
      "cell_type": "code",
      "execution_count": null,
      "metadata": {
        "ExecuteTime": {
          "end_time": "2023-07-09T21:44:04.170444Z",
          "start_time": "2023-07-09T21:44:04.159405Z"
        },
        "id": "FxpuzAv3oF4I",
        "outputId": "aae97c20-1175-4355-d017-07588856b015",
        "colab": {
          "base_uri": "https://localhost:8080/"
        }
      },
      "outputs": [
        {
          "output_type": "stream",
          "name": "stdout",
          "text": [
            "Tiempo de ejecución del problema 1 GA - 0.00561s\n",
            "Tiempo de ejecución del problema 2 GA - 4.15349s\n",
            "Tiempo de ejecución del problema 3 PSO - 0.00015s\n",
            "Tiempo de ejecución del problema 4 PSO - 0.00017s\n",
            "Tiempo de ejecución del problema TSP - ACO - 0.03279s\n"
          ]
        }
      ],
      "source": [
        "execution_time = (\n",
        "    \"Tiempo de ejecución del problema 1 GA - %.5fs\" % p1_exec_time,\n",
        "    \"Tiempo de ejecución del problema 2 GA - %.5fs\" % p2_exec_time,\n",
        "    \"Tiempo de ejecución del problema 3 PSO - %.5fs\" % p3_exec_time,\n",
        "    \"Tiempo de ejecución del problema 4 PSO - %.5fs\" % p4_exec_time,\n",
        "    \"Tiempo de ejecución del problema TSP - ACO - %.5fs\" % aco_exec_time,\n",
        ")\n",
        "for i in execution_time:\n",
        "    print(i)"
      ]
    },
    {
      "cell_type": "markdown",
      "metadata": {
        "id": "AP94jTxToF4I"
      },
      "source": []
    }
  ],
  "metadata": {
    "kernelspec": {
      "display_name": "Python 3 (ipykernel)",
      "language": "python",
      "name": "python3"
    },
    "language_info": {
      "codemirror_mode": {
        "name": "ipython",
        "version": 3
      },
      "file_extension": ".py",
      "mimetype": "text/x-python",
      "name": "python",
      "nbconvert_exporter": "python",
      "pygments_lexer": "ipython3",
      "version": "3.11.3"
    },
    "colab": {
      "provenance": [],
      "include_colab_link": true
    }
  },
  "nbformat": 4,
  "nbformat_minor": 0
}